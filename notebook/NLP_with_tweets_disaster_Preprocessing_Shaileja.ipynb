{
  "cells": [
    {
      "cell_type": "markdown",
      "metadata": {
        "id": "dfs1dktleZUe"
      },
      "source": [
        "## Imports"
      ]
    },
    {
      "cell_type": "code",
      "execution_count": null,
      "metadata": {
        "id": "n_B3CarOOArB"
      },
      "outputs": [],
      "source": [
        "import pandas as pd\n",
        "import re\n",
        "import string\n",
        "from nltk.corpus import stopwords\n",
        "from nltk.tokenize import word_tokenize\n",
        "from nltk.stem import WordNetLemmatizer\n",
        "import seaborn as sns\n",
        "import matplotlib.pyplot as plt\n",
        "from sklearn.model_selection import train_test_split"
      ]
    },
    {
      "cell_type": "code",
      "execution_count": null,
      "metadata": {
        "colab": {
          "base_uri": "https://localhost:8080/"
        },
        "id": "eFQKazq-Rzv1",
        "outputId": "b0ecbc80-bef2-4b21-d08c-e32569086e1b"
      },
      "outputs": [
        {
          "name": "stderr",
          "output_type": "stream",
          "text": [
            "[nltk_data] Downloading package punkt to\n",
            "[nltk_data]     /teamspace/studios/this_studio/nltk_data...\n",
            "[nltk_data]   Package punkt is already up-to-date!\n",
            "[nltk_data] Downloading package stopwords to\n",
            "[nltk_data]     /teamspace/studios/this_studio/nltk_data...\n",
            "[nltk_data]   Package stopwords is already up-to-date!\n",
            "[nltk_data] Downloading package wordnet to\n",
            "[nltk_data]     /teamspace/studios/this_studio/nltk_data...\n",
            "[nltk_data]   Package wordnet is already up-to-date!\n"
          ]
        },
        {
          "data": {
            "text/plain": [
              "True"
            ]
          },
          "execution_count": 9,
          "metadata": {},
          "output_type": "execute_result"
        }
      ],
      "source": [
        "import nltk\n",
        "nltk.download('punkt')\n",
        "nltk.download('stopwords')\n",
        "nltk.download('wordnet')"
      ]
    },
    {
      "cell_type": "code",
      "execution_count": null,
      "metadata": {
        "id": "91tZwjZBOQu5"
      },
      "outputs": [],
      "source": [
        "# Load the data\n",
        "tweets_df = pd.read_csv('tweets.csv')"
      ]
    },
    {
      "cell_type": "code",
      "execution_count": null,
      "metadata": {
        "colab": {
          "base_uri": "https://localhost:8080/",
          "height": 206
        },
        "id": "mcVxrluoJd3j",
        "outputId": "a5df5766-0070-4f9f-ab26-a1abbe265732"
      },
      "outputs": [
        {
          "data": {
            "text/html": [
              "<div>\n",
              "<style scoped>\n",
              "    .dataframe tbody tr th:only-of-type {\n",
              "        vertical-align: middle;\n",
              "    }\n",
              "\n",
              "    .dataframe tbody tr th {\n",
              "        vertical-align: top;\n",
              "    }\n",
              "\n",
              "    .dataframe thead th {\n",
              "        text-align: right;\n",
              "    }\n",
              "</style>\n",
              "<table border=\"1\" class=\"dataframe\">\n",
              "  <thead>\n",
              "    <tr style=\"text-align: right;\">\n",
              "      <th></th>\n",
              "      <th>id</th>\n",
              "      <th>keyword</th>\n",
              "      <th>location</th>\n",
              "      <th>text</th>\n",
              "      <th>target</th>\n",
              "    </tr>\n",
              "  </thead>\n",
              "  <tbody>\n",
              "    <tr>\n",
              "      <th>0</th>\n",
              "      <td>0</td>\n",
              "      <td>ablaze</td>\n",
              "      <td>NaN</td>\n",
              "      <td>Communal violence in Bhainsa, Telangana. \"Ston...</td>\n",
              "      <td>1</td>\n",
              "    </tr>\n",
              "    <tr>\n",
              "      <th>1</th>\n",
              "      <td>1</td>\n",
              "      <td>ablaze</td>\n",
              "      <td>NaN</td>\n",
              "      <td>Telangana: Section 144 has been imposed in Bha...</td>\n",
              "      <td>1</td>\n",
              "    </tr>\n",
              "    <tr>\n",
              "      <th>2</th>\n",
              "      <td>2</td>\n",
              "      <td>ablaze</td>\n",
              "      <td>New York City</td>\n",
              "      <td>Arsonist sets cars ablaze at dealership https:...</td>\n",
              "      <td>1</td>\n",
              "    </tr>\n",
              "    <tr>\n",
              "      <th>3</th>\n",
              "      <td>3</td>\n",
              "      <td>ablaze</td>\n",
              "      <td>Morgantown, WV</td>\n",
              "      <td>Arsonist sets cars ablaze at dealership https:...</td>\n",
              "      <td>1</td>\n",
              "    </tr>\n",
              "    <tr>\n",
              "      <th>4</th>\n",
              "      <td>4</td>\n",
              "      <td>ablaze</td>\n",
              "      <td>NaN</td>\n",
              "      <td>\"Lord Jesus, your love brings freedom and pard...</td>\n",
              "      <td>0</td>\n",
              "    </tr>\n",
              "  </tbody>\n",
              "</table>\n",
              "</div>"
            ],
            "text/plain": [
              "   id keyword        location  \\\n",
              "0   0  ablaze             NaN   \n",
              "1   1  ablaze             NaN   \n",
              "2   2  ablaze   New York City   \n",
              "3   3  ablaze  Morgantown, WV   \n",
              "4   4  ablaze             NaN   \n",
              "\n",
              "                                                text  target  \n",
              "0  Communal violence in Bhainsa, Telangana. \"Ston...       1  \n",
              "1  Telangana: Section 144 has been imposed in Bha...       1  \n",
              "2  Arsonist sets cars ablaze at dealership https:...       1  \n",
              "3  Arsonist sets cars ablaze at dealership https:...       1  \n",
              "4  \"Lord Jesus, your love brings freedom and pard...       0  "
            ]
          },
          "execution_count": 5,
          "metadata": {},
          "output_type": "execute_result"
        }
      ],
      "source": [
        "tweets_df.head()"
      ]
    },
    {
      "cell_type": "code",
      "execution_count": null,
      "metadata": {
        "colab": {
          "base_uri": "https://localhost:8080/"
        },
        "id": "Jbx1pRH3Jg05",
        "outputId": "4086151f-ffb6-45aa-9ab7-5a836b77b3c7"
      },
      "outputs": [
        {
          "data": {
            "text/plain": [
              "(11370, 5)"
            ]
          },
          "execution_count": 6,
          "metadata": {},
          "output_type": "execute_result"
        }
      ],
      "source": [
        "tweets_df.shape"
      ]
    },
    {
      "cell_type": "code",
      "execution_count": null,
      "metadata": {
        "colab": {
          "base_uri": "https://localhost:8080/"
        },
        "id": "eVZzdgJlKVwS",
        "outputId": "240cddbd-ccd3-46ed-94c8-54bd6c703181"
      },
      "outputs": [
        {
          "name": "stdout",
          "output_type": "stream",
          "text": [
            "<class 'pandas.core.frame.DataFrame'>\n",
            "RangeIndex: 11370 entries, 0 to 11369\n",
            "Data columns (total 5 columns):\n",
            " #   Column    Non-Null Count  Dtype \n",
            "---  ------    --------------  ----- \n",
            " 0   id        11370 non-null  int64 \n",
            " 1   keyword   11370 non-null  object\n",
            " 2   location  7952 non-null   object\n",
            " 3   text      11370 non-null  object\n",
            " 4   target    11370 non-null  int64 \n",
            "dtypes: int64(2), object(3)\n",
            "memory usage: 444.3+ KB\n"
          ]
        }
      ],
      "source": [
        "tweets_df.info()"
      ]
    },
    {
      "cell_type": "code",
      "execution_count": null,
      "metadata": {
        "colab": {
          "base_uri": "https://localhost:8080/",
          "height": 300
        },
        "id": "wi3u7tq-JlOo",
        "outputId": "cb09fa53-c70e-43b3-ff38-ea1a0911fbf3"
      },
      "outputs": [
        {
          "data": {
            "text/html": [
              "<div>\n",
              "<style scoped>\n",
              "    .dataframe tbody tr th:only-of-type {\n",
              "        vertical-align: middle;\n",
              "    }\n",
              "\n",
              "    .dataframe tbody tr th {\n",
              "        vertical-align: top;\n",
              "    }\n",
              "\n",
              "    .dataframe thead th {\n",
              "        text-align: right;\n",
              "    }\n",
              "</style>\n",
              "<table border=\"1\" class=\"dataframe\">\n",
              "  <thead>\n",
              "    <tr style=\"text-align: right;\">\n",
              "      <th></th>\n",
              "      <th>id</th>\n",
              "      <th>target</th>\n",
              "    </tr>\n",
              "  </thead>\n",
              "  <tbody>\n",
              "    <tr>\n",
              "      <th>count</th>\n",
              "      <td>11370.000000</td>\n",
              "      <td>11370.000000</td>\n",
              "    </tr>\n",
              "    <tr>\n",
              "      <th>mean</th>\n",
              "      <td>5684.500000</td>\n",
              "      <td>0.185928</td>\n",
              "    </tr>\n",
              "    <tr>\n",
              "      <th>std</th>\n",
              "      <td>3282.380615</td>\n",
              "      <td>0.389066</td>\n",
              "    </tr>\n",
              "    <tr>\n",
              "      <th>min</th>\n",
              "      <td>0.000000</td>\n",
              "      <td>0.000000</td>\n",
              "    </tr>\n",
              "    <tr>\n",
              "      <th>25%</th>\n",
              "      <td>2842.250000</td>\n",
              "      <td>0.000000</td>\n",
              "    </tr>\n",
              "    <tr>\n",
              "      <th>50%</th>\n",
              "      <td>5684.500000</td>\n",
              "      <td>0.000000</td>\n",
              "    </tr>\n",
              "    <tr>\n",
              "      <th>75%</th>\n",
              "      <td>8526.750000</td>\n",
              "      <td>0.000000</td>\n",
              "    </tr>\n",
              "    <tr>\n",
              "      <th>max</th>\n",
              "      <td>11369.000000</td>\n",
              "      <td>1.000000</td>\n",
              "    </tr>\n",
              "  </tbody>\n",
              "</table>\n",
              "</div>"
            ],
            "text/plain": [
              "                 id        target\n",
              "count  11370.000000  11370.000000\n",
              "mean    5684.500000      0.185928\n",
              "std     3282.380615      0.389066\n",
              "min        0.000000      0.000000\n",
              "25%     2842.250000      0.000000\n",
              "50%     5684.500000      0.000000\n",
              "75%     8526.750000      0.000000\n",
              "max    11369.000000      1.000000"
            ]
          },
          "execution_count": 8,
          "metadata": {},
          "output_type": "execute_result"
        }
      ],
      "source": [
        "tweets_df.describe()"
      ]
    },
    {
      "cell_type": "markdown",
      "metadata": {
        "id": "85IVrWqBNL13"
      },
      "source": [
        "## EDA"
      ]
    },
    {
      "cell_type": "code",
      "execution_count": null,
      "metadata": {
        "colab": {
          "base_uri": "https://localhost:8080/",
          "height": 467
        },
        "id": "EnUTTNidKfep",
        "outputId": "9fcf7b14-a53a-44e9-b43e-169985647af9"
      },
      "outputs": [
        {
          "data": {
            "text/plain": [
              "<Axes: xlabel='target', ylabel='count'>"
            ]
          },
          "execution_count": 9,
          "metadata": {},
          "output_type": "execute_result"
        },
        {
          "data": {
            "image/png": "[encoded data removed]",
            "text/plain": [
              "<Figure size 640x480 with 1 Axes>"
            ]
          },
          "metadata": {},
          "output_type": "display_data"
        }
      ],
      "source": [
        "sns.countplot(x='target',data=tweets_df) #Dataset Is Imbalanced"
      ]
    },
    {
      "cell_type": "code",
      "execution_count": null,
      "metadata": {
        "colab": {
          "base_uri": "https://localhost:8080/",
          "height": 522
        },
        "id": "Vf12jCOLKpwW",
        "outputId": "8f916fca-3cb9-4b40-8a4c-5440997b3621"
      },
      "outputs": [
        {
          "data": {
            "image/png": "[encoded data removed]",
            "text/plain": [
              "<Figure size 2000x600 with 1 Axes>"
            ]
          },
          "metadata": {},
          "output_type": "display_data"
        }
      ],
      "source": [
        "data = tweets_df['keyword'].value_counts().to_dict()\n",
        "\n",
        "# Extract keys and values\n",
        "x = list(data.keys())\n",
        "y = list(data.values())\n",
        "\n",
        "# Create a larger figure for better readability\n",
        "plt.figure(figsize=(20, 6))\n",
        "\n",
        "# Create a line plot for keyword frequency distribution\n",
        "plt.plot(x, y, marker='o')  # Add marker='o' for better visibility of points\n",
        "plt.xlabel('Keywords')\n",
        "plt.ylabel('Frequency')\n",
        "plt.title('Keyword Frequency Distribution')\n",
        "plt.xticks(rotation=90, fontsize=6)  # Rotate x-axis labels for better readability and reduce font size\n",
        "plt.show()\n"
      ]
    },
    {
      "cell_type": "markdown",
      "metadata": {
        "id": "Z1Z0okCdNL15"
      },
      "source": [
        "## Data Preprocessing"
      ]
    },
    {
      "cell_type": "code",
      "execution_count": null,
      "metadata": {
        "id": "QKDdtuyGOQwj"
      },
      "outputs": [],
      "source": [
        "# Remove duplicates\n",
        "tweets_df.drop_duplicates(subset='text', inplace=True)"
      ]
    },
    {
      "cell_type": "code",
      "execution_count": null,
      "metadata": {
        "id": "2VYopaBbOQ1C"
      },
      "outputs": [],
      "source": [
        "# Handle missing values\n",
        "tweets_df.dropna(subset=['text'], inplace=True)"
      ]
    },
    {
      "cell_type": "code",
      "execution_count": null,
      "metadata": {
        "colab": {
          "base_uri": "https://localhost:8080/"
        },
        "id": "Ga18FS3uK07N",
        "outputId": "a008ee92-855c-42d7-dc9e-107c5f027bd8"
      },
      "outputs": [
        {
          "data": {
            "text/plain": [
              "target\n",
              "0    9153\n",
              "1    2070\n",
              "Name: count, dtype: int64"
            ]
          },
          "execution_count": 13,
          "metadata": {},
          "output_type": "execute_result"
        }
      ],
      "source": [
        "tweets_df['target'].value_counts()"
      ]
    },
    {
      "cell_type": "code",
      "execution_count": null,
      "metadata": {
        "colab": {
          "base_uri": "https://localhost:8080/",
          "height": 72
        },
        "id": "sby61wNwK_RF",
        "outputId": "d40a36f5-9bd6-423c-ad64-888c686390e3"
      },
      "outputs": [
        {
          "data": {
            "text/plain": [
              "\"df_0 = tweets_df[tweets_df['target'] == 0] # Getting all data with target = 0\\ndf_0 = df_0.sample(tweets_df[tweets_df['target'] == 1].shape[0]) # From 9152 selecting 2070\\ndf_0.shape\\n\\ndf_1 = tweets_df[tweets_df['target'] == 1] # Getting all data with target = 1\\n\\nfinal_df = pd.concat([df_0,df_1],axis = 0) # Concat both dataset\\nfinal_df = final_df.sample(final_df.shape[0]) #Resampling The dataset\\nfinal_df.shape\""
            ]
          },
          "execution_count": 14,
          "metadata": {},
          "output_type": "execute_result"
        }
      ],
      "source": [
        "'''df_0 = tweets_df[tweets_df['target'] == 0] # Getting all data with target = 0\n",
        "df_0 = df_0.sample(tweets_df[tweets_df['target'] == 1].shape[0]) # From 9152 selecting 2070\n",
        "df_0.shape\n",
        "\n",
        "df_1 = tweets_df[tweets_df['target'] == 1] # Getting all data with target = 1\n",
        "\n",
        "final_df = pd.concat([df_0,df_1],axis = 0) # Concat both dataset\n",
        "final_df = final_df.sample(final_df.shape[0]) #Resampling The dataset\n",
        "final_df.shape'''"
      ]
    },
    {
      "cell_type": "code",
      "execution_count": null,
      "metadata": {
        "colab": {
          "base_uri": "https://localhost:8080/",
          "height": 36
        },
        "id": "oIjxDifoLHG7",
        "outputId": "bb3381b8-1a7e-4881-ae38-49c0375f938b"
      },
      "outputs": [
        {
          "data": {
            "text/plain": [
              "\"final_df['target'].value_counts()\""
            ]
          },
          "execution_count": 15,
          "metadata": {},
          "output_type": "execute_result"
        }
      ],
      "source": [
        "'''final_df['target'].value_counts()'''"
      ]
    },
    {
      "cell_type": "markdown",
      "metadata": {
        "id": "F2lIwPPyNL18"
      },
      "source": [
        "### Data Cleaning"
      ]
    },
    {
      "cell_type": "code",
      "execution_count": null,
      "metadata": {
        "id": "gW36e31hOQ2o"
      },
      "outputs": [],
      "source": [
        "import re\n",
        "# Text preprocessing function\n",
        "def preprocess_text(text):\n",
        "    text = text.lower()  # Lowercase text\n",
        "    text = re.sub(re.compile('<.*?>'),'',text) # Removing Html Tags\n",
        "    text = re.sub('\\[.*?\\]', '', text) # Remove square brackets\n",
        "    text = re.sub('https?://\\S+|www\\.\\S+', '', text) # Remove URLs\n",
        "    text = re.sub(f\"[{re.escape(string.punctuation)}]\", \"\", text)  # Remove punctuation\n",
        "    text = re.sub('\\n', '', text) # Remove new line (/n)\n",
        "    text = re.sub(r'[^a-zA-Z0-9\\s]', '', text)# Remove non-alphanumeric characters\n",
        "    # text = re.sub('\\w*\\d\\w*', '', text)  # Removes Digit But in this case it make be Important\n",
        "    tokens = word_tokenize(text)  # Tokenization\n",
        "    tokens = [word for word in tokens if word not in stopwords.words('english')]  # Remove stopwords\n",
        "    lemmatizer = WordNetLemmatizer()\n",
        "    tokens = [lemmatizer.lemmatize(word) for word in tokens]  # Lemmatization\n",
        "    return \" \".join(tokens)"
      ]
    },
    {
      "cell_type": "code",
      "execution_count": null,
      "metadata": {
        "id": "TzP3CEStOQ_L"
      },
      "outputs": [],
      "source": [
        "# Apply preprocessing\n",
        "'''final_df['cleaned_text'] = final_df['text'].apply(preprocess_text)'''\n",
        "tweets_df['cleaned_text'] = tweets_df['text'].apply(preprocess_text)"
      ]
    },
    {
      "cell_type": "code",
      "execution_count": null,
      "metadata": {
        "colab": {
          "base_uri": "https://localhost:8080/",
          "height": 206
        },
        "id": "WJKLVpFNHco9",
        "outputId": "2e272a32-f662-4029-bf5d-e3ad8c711c13"
      },
      "outputs": [
        {
          "data": {
            "text/html": [
              "<div>\n",
              "<style scoped>\n",
              "    .dataframe tbody tr th:only-of-type {\n",
              "        vertical-align: middle;\n",
              "    }\n",
              "\n",
              "    .dataframe tbody tr th {\n",
              "        vertical-align: top;\n",
              "    }\n",
              "\n",
              "    .dataframe thead th {\n",
              "        text-align: right;\n",
              "    }\n",
              "</style>\n",
              "<table border=\"1\" class=\"dataframe\">\n",
              "  <thead>\n",
              "    <tr style=\"text-align: right;\">\n",
              "      <th></th>\n",
              "      <th>cleaned_text</th>\n",
              "      <th>target</th>\n",
              "    </tr>\n",
              "  </thead>\n",
              "  <tbody>\n",
              "    <tr>\n",
              "      <th>0</th>\n",
              "      <td>communal violence bhainsa telangana stone pelt...</td>\n",
              "      <td>1</td>\n",
              "    </tr>\n",
              "    <tr>\n",
              "      <th>1</th>\n",
              "      <td>telangana section 144 imposed bhainsa january ...</td>\n",
              "      <td>1</td>\n",
              "    </tr>\n",
              "    <tr>\n",
              "      <th>2</th>\n",
              "      <td>arsonist set car ablaze dealership</td>\n",
              "      <td>1</td>\n",
              "    </tr>\n",
              "    <tr>\n",
              "      <th>3</th>\n",
              "      <td>arsonist set car ablaze dealership</td>\n",
              "      <td>1</td>\n",
              "    </tr>\n",
              "    <tr>\n",
              "      <th>4</th>\n",
              "      <td>lord jesus love brings freedom pardon fill hol...</td>\n",
              "      <td>0</td>\n",
              "    </tr>\n",
              "  </tbody>\n",
              "</table>\n",
              "</div>"
            ],
            "text/plain": [
              "                                        cleaned_text  target\n",
              "0  communal violence bhainsa telangana stone pelt...       1\n",
              "1  telangana section 144 imposed bhainsa january ...       1\n",
              "2                 arsonist set car ablaze dealership       1\n",
              "3                 arsonist set car ablaze dealership       1\n",
              "4  lord jesus love brings freedom pardon fill hol...       0"
            ]
          },
          "execution_count": 18,
          "metadata": {},
          "output_type": "execute_result"
        }
      ],
      "source": [
        "#final_df = final_df[['cleaned_text','target']].reset_index().drop('index',axis=1)\n",
        "final_df = tweets_df[['cleaned_text','target']].reset_index().drop('index',axis=1)\n",
        "final_df.head()"
      ]
    },
    {
      "cell_type": "code",
      "execution_count": null,
      "metadata": {
        "id": "PpaPd4UfCvT2"
      },
      "outputs": [],
      "source": [
        "import os\n",
        "os.makedirs('dataset',exist_ok=True)\n",
        "os.makedirs('models', exist_ok=True)\n",
        "\n",
        "final_df.to_csv('dataset/Final_dataset.csv')"
      ]
    },
    {
      "cell_type": "markdown",
      "metadata": {
        "id": "zw3i-OdyAwMB"
      },
      "source": [
        "train test and vaidataion data seperation"
      ]
    },
    {
      "cell_type": "code",
      "execution_count": null,
      "metadata": {
        "id": "rnMEAonUAu2N"
      },
      "outputs": [],
      "source": [
        "from sklearn.model_selection import train_test_split\n",
        "\n",
        "df, val_df = train_test_split(final_df, test_size=0.2, random_state=42)\n",
        "train_df, test_df = train_test_split(df, test_size=0.2, random_state=42)\n",
        "#test_df = test_df.drop('target',axis=1)\n",
        "#val_df = val_df.drop('target',axis=1)\n",
        "train_df.to_csv('dataset/train.csv')\n",
        "val_df.to_csv('dataset/val.csv')\n",
        "test_df.to_csv('dataset/test.csv')\n",
        "\n",
        "# Step 6: Split the data into training and testing sets\n",
        "X_train = train_df['cleaned_text']\n",
        "y_train = train_df['target']\n",
        "\n",
        "X_test = test_df['cleaned_text']\n",
        "y_test = test_df['target']\n",
        "\n",
        "X_val = val_df['cleaned_text']\n",
        "y_val = val_df['target']"
      ]
    },
    {
      "cell_type": "markdown",
      "metadata": {
        "id": "Tpmofv_ca9I5"
      },
      "source": [
        "## Word to vec"
      ]
    },
    {
      "cell_type": "code",
      "execution_count": null,
      "metadata": {
        "colab": {
          "base_uri": "https://localhost:8080/"
        },
        "id": "yh4QlxU2a504",
        "outputId": "b98692ff-2ff1-4600-c0ce-0821799768cd"
      },
      "outputs": [
        {
          "name": "stdout",
          "output_type": "stream",
          "text": [
            "      0         1         2         3         4         5         6      \\\n",
            "0  0.001933  0.000580  0.002918  0.000921  0.000771  0.001317  0.001343   \n",
            "1  0.000917  0.000291  0.001396  0.000423  0.000353  0.000621  0.000628   \n",
            "2  0.001618  0.000481  0.002531  0.000793  0.000665  0.001164  0.001109   \n",
            "3  0.001668  0.000514  0.002463  0.000756  0.000649  0.001065  0.001121   \n",
            "4  0.000657  0.000220  0.000972  0.000324  0.000303  0.000435  0.000363   \n",
            "\n",
            "      7         8         9      ...     10990     10991     10992     10993  \\\n",
            "0 -0.001107 -0.002067  0.001239  ... -0.001530 -0.002225  0.000153  0.000775   \n",
            "1 -0.000520 -0.000946  0.000586  ... -0.000760 -0.001058  0.000071  0.000348   \n",
            "2 -0.000939 -0.001846  0.001204  ... -0.001304 -0.002046  0.000185  0.000661   \n",
            "3 -0.000899 -0.001706  0.001136  ... -0.001294 -0.001904  0.000078  0.000627   \n",
            "4 -0.000331 -0.000689  0.000399  ... -0.000517 -0.000658  0.000065  0.000228   \n",
            "\n",
            "      10994     10995     10996     10997     10998     10999  \n",
            "0 -0.000826 -0.002994  0.000975  0.001376 -0.000440  0.001905  \n",
            "1 -0.000371 -0.001440  0.000447  0.000671 -0.000182  0.000905  \n",
            "2 -0.000711 -0.002685  0.000827  0.001190 -0.000398  0.001669  \n",
            "3 -0.000689 -0.002570  0.000801  0.001194 -0.000370  0.001566  \n",
            "4 -0.000307 -0.000989  0.000296  0.000495 -0.000148  0.000646  \n",
            "\n",
            "[5 rows x 11000 columns]\n",
            "Word to Vec Shape (4140, 11000)\n"
          ]
        }
      ],
      "source": [
        "import numpy as np\n",
        "from gensim.models import Word2Vec\n",
        "from nltk.tokenize import word_tokenize, sent_tokenize\n",
        "from sklearn.feature_extraction.text import TfidfVectorizer\n",
        "from sklearn.model_selection import train_test_split\n",
        "from sklearn.svm import SVC\n",
        "from sklearn.metrics import classification_report, accuracy_score\n",
        "\n",
        "# Step 1: Prepare the data for Word2Vec\n",
        "cleaned_text = final_df['cleaned_text'].tolist()\n",
        "target = final_df['target']  # Replace 'target' with the actual name of your target column\n",
        "\n",
        "word_corpus = []\n",
        "\n",
        "for sentence in cleaned_text:\n",
        "    # Perform sentence tokenization\n",
        "    sentences = sent_tokenize(sentence)\n",
        "\n",
        "    for sub_sentence in sentences:\n",
        "        # Perform word tokenization\n",
        "        tokens = word_tokenize(sub_sentence.lower())\n",
        "        word_corpus.append(tokens)\n",
        "\n",
        "# Step 2: Train the Word2Vec model\n",
        "model = Word2Vec(sentences=word_corpus, vector_size=11000, window=5, min_count=5, workers=4)\n",
        "\n",
        "# Step 3: Compute Word2Vec features\n",
        "def get_word2vec_features(text, model, vector_size=11000):\n",
        "    words = word_tokenize(text.lower())\n",
        "    word_vectors = [model.wv[word] for word in words if word in model.wv]\n",
        "    if len(word_vectors) == 0:\n",
        "        return np.zeros(vector_size)\n",
        "    return np.mean(word_vectors, axis=0)\n",
        "\n",
        "word2vec_features = np.array([get_word2vec_features(text, model) for text in cleaned_text])\n",
        "\n",
        "word2vec_df = pd.DataFrame(word2vec_features)\n",
        "\n",
        "# Print the first 5 rows of the Word2Vec features\n",
        "print(word2vec_df.head())\n",
        "print('Word to Vec Shape',word2vec_df.shape)"
      ]
    },
    {
      "cell_type": "code",
      "execution_count": null,
      "metadata": {
        "colab": {
          "base_uri": "https://localhost:8080/"
        },
        "id": "CgLEBaRvbOGm",
        "outputId": "ae78de76-cc63-48c3-e017-1164e05dac86"
      },
      "outputs": [
        {
          "name": "stdout",
          "output_type": "stream",
          "text": [
            "Accuracy: 0.6256038647342995\n",
            "Classification Report:\n",
            "              precision    recall  f1-score   support\n",
            "\n",
            "           0       0.65      0.60      0.62       428\n",
            "           1       0.60      0.66      0.63       400\n",
            "\n",
            "    accuracy                           0.63       828\n",
            "   macro avg       0.63      0.63      0.63       828\n",
            "weighted avg       0.63      0.63      0.63       828\n",
            "\n"
          ]
        }
      ],
      "source": [
        "# Step 6: Split the data into training and testing sets\n",
        "X_train, X_test, y_train, y_test = train_test_split(word2vec_df, target, test_size=0.2, random_state=42)\n",
        "\n",
        "# Step 7: Train the SVM model\n",
        "svm_model = SVC(kernel='linear')\n",
        "svm_model.fit(X_train, y_train)\n",
        "\n",
        "# Step 8: Make predictions\n",
        "y_pred = svm_model.predict(X_test)\n",
        "\n",
        "# Step 9: Evaluate the model\n",
        "print(\"Accuracy:\", accuracy_score(y_test, y_pred))\n",
        "print(\"Classification Report:\")\n",
        "print(classification_report(y_test, y_pred))"
      ]
    },
    {
      "cell_type": "markdown",
      "metadata": {
        "id": "k5zetuzra0q_"
      },
      "source": [
        "## Combined Word to and tfidf"
      ]
    },
    {
      "cell_type": "code",
      "execution_count": null,
      "metadata": {
        "colab": {
          "base_uri": "https://localhost:8080/"
        },
        "id": "MoW_aCvyOeMi",
        "outputId": "3e354b21-301b-4dbd-81b3-a54ef5963ec5"
      },
      "outputs": [
        {
          "name": "stdout",
          "output_type": "stream",
          "text": [
            "Word2Vec model saved.\n",
            "        0         1         2         3         4         5         6    \\\n",
            "0  0.002874 -0.007472 -0.046856 -0.006520  0.005024 -0.025490  0.004750   \n",
            "1  0.001551 -0.003894 -0.032522 -0.006625  0.001543 -0.017203  0.006936   \n",
            "2  0.003524 -0.008666 -0.058097 -0.010015  0.005591 -0.032404  0.011783   \n",
            "3  0.006962 -0.010593 -0.064598 -0.013763  0.005580 -0.035212  0.011542   \n",
            "4 -0.000926 -0.001738 -0.030357 -0.006061  0.005707 -0.016846  0.005431   \n",
            "\n",
            "        7         8         9    ...       140       141       142       143  \\\n",
            "0  0.100551  0.009889  0.044161  ...  0.016795  0.025295  0.051365  0.050040   \n",
            "1  0.066766  0.008395  0.028719  ...  0.009912  0.018387  0.031315  0.032267   \n",
            "2  0.126678  0.014286  0.055426  ...  0.016895  0.031565  0.063486  0.058019   \n",
            "3  0.133519  0.014585  0.054949  ...  0.017147  0.036511  0.070555  0.061570   \n",
            "4  0.068735  0.004864  0.030786  ...  0.009251  0.017914  0.038609  0.033899   \n",
            "\n",
            "        144       145       146       147       148       149  \n",
            "0  0.079480  0.054575 -0.074516 -0.039617  0.051284 -0.043091  \n",
            "1  0.051558  0.035702 -0.049532 -0.024479  0.035317 -0.025514  \n",
            "2  0.096230  0.065324 -0.087058 -0.049134  0.064895 -0.051082  \n",
            "3  0.104916  0.068334 -0.092996 -0.050241  0.069034 -0.053165  \n",
            "4  0.054263  0.038514 -0.045521 -0.025734  0.034316 -0.026069  \n",
            "\n",
            "[5 rows x 150 columns]\n",
            "Word to Vec Shape (4140, 150)\n"
          ]
        }
      ],
      "source": [
        "import numpy as np\n",
        "from gensim.models import Word2Vec\n",
        "from nltk.tokenize import word_tokenize, sent_tokenize\n",
        "from sklearn.feature_extraction.text import TfidfVectorizer\n",
        "from sklearn.model_selection import train_test_split\n",
        "from sklearn.svm import SVC\n",
        "from sklearn.metrics import classification_report, accuracy_score\n",
        "\n",
        "# Step 1: Prepare the data for Word2Vec\n",
        "cleaned_text = final_df['cleaned_text'].tolist()\n",
        "target = final_df['target']  # Replace 'target' with the actual name of your target column\n",
        "\n",
        "word_corpus = []\n",
        "\n",
        "for sentence in cleaned_text:\n",
        "    # Perform sentence tokenization\n",
        "    sentences = sent_tokenize(sentence)\n",
        "\n",
        "    for sub_sentence in sentences:\n",
        "        # Perform word tokenization\n",
        "        tokens = word_tokenize(sub_sentence.lower())\n",
        "        word_corpus.append(tokens)\n",
        "\n",
        "# Step 2: Train the Word2Vec model\n",
        "model = Word2Vec(sentences=word_corpus, vector_size=150, window=5, min_count=5, workers=4)\n",
        "\n",
        "# Save the Word2Vec model\n",
        "model.save(\"word2vec_model.model\")\n",
        "print(\"Word2Vec model saved.\")\n",
        "\n",
        "# Step 3: Compute Word2Vec features\n",
        "def get_word2vec_features(text, model, vector_size=150):\n",
        "    words = word_tokenize(text.lower())\n",
        "    word_vectors = [model.wv[word] for word in words if word in model.wv]\n",
        "    if len(word_vectors) == 0:\n",
        "        return np.zeros(vector_size)\n",
        "    return np.mean(word_vectors, axis=0)\n",
        "\n",
        "word2vec_features = np.array([get_word2vec_features(text, model) for text in cleaned_text])\n",
        "\n",
        "word2vec_df = pd.DataFrame(word2vec_features)\n",
        "\n",
        "# Print the first 5 rows of the Word2Vec features\n",
        "print(word2vec_df.head())\n",
        "print('Word to Vec Shape',word2vec_df.shape)"
      ]
    },
    {
      "cell_type": "code",
      "execution_count": null,
      "metadata": {
        "colab": {
          "base_uri": "https://localhost:8080/"
        },
        "id": "EaJGjCNkUwCX",
        "outputId": "9aba0ed7-af02-4866-acd5-e392752a3614"
      },
      "outputs": [
        {
          "name": "stdout",
          "output_type": "stream",
          "text": [
            "TF-IDF vectorizer saved.\n",
            "tfidf Shape (4140, 10833)\n"
          ]
        }
      ],
      "source": [
        "import joblib\n",
        "# Step 4: Compute TF-IDF features\n",
        "tfidf_vectorizer = TfidfVectorizer()\n",
        "tfidf_matrix = tfidf_vectorizer.fit_transform(cleaned_text).toarray()\n",
        "\n",
        "# Save the TF-IDF vectorizer\n",
        "joblib.dump(tfidf_vectorizer, \"tfidf_plus_w2v_vectorizer.pkl\")\n",
        "print(\"TF-IDF vectorizer saved.\")\n",
        "print('tfidf Shape',tfidf_matrix.shape)"
      ]
    },
    {
      "cell_type": "code",
      "execution_count": null,
      "metadata": {
        "colab": {
          "base_uri": "https://localhost:8080/"
        },
        "id": "MVJ9DoAYZd9U",
        "outputId": "0378c866-1f4b-4a7d-fda5-d52e28dd18fb"
      },
      "outputs": [
        {
          "data": {
            "text/plain": [
              "(4140, 10983)"
            ]
          },
          "execution_count": 29,
          "metadata": {},
          "output_type": "execute_result"
        }
      ],
      "source": [
        "# Step 5: Combine Word2Vec and TF-IDF features\n",
        "combined_features = np.hstack((word2vec_features, tfidf_matrix))\n",
        "combined_features.shape"
      ]
    },
    {
      "cell_type": "code",
      "execution_count": null,
      "metadata": {
        "colab": {
          "base_uri": "https://localhost:8080/"
        },
        "id": "eKMgAuW9R479",
        "outputId": "b2e42613-57b0-4cc7-8ab8-91dcd2bf0875"
      },
      "outputs": [
        {
          "name": "stdout",
          "output_type": "stream",
          "text": [
            "Accuracy: 0.8019323671497585\n",
            "Classification Report:\n",
            "              precision    recall  f1-score   support\n",
            "\n",
            "           0       0.75      0.86      0.80       380\n",
            "           1       0.86      0.75      0.80       448\n",
            "\n",
            "    accuracy                           0.80       828\n",
            "   macro avg       0.80      0.81      0.80       828\n",
            "weighted avg       0.81      0.80      0.80       828\n",
            "\n"
          ]
        }
      ],
      "source": [
        "# Step 6: Split the data into training and testing sets\n",
        "X_train, X_test, y_train, y_test = train_test_split(combined_features, target, test_size=0.2, random_state=42)\n",
        "\n",
        "# Step 7: Train the SVM model\n",
        "svm_model = SVC(kernel='linear')\n",
        "svm_model.fit(X_train, y_train)\n",
        "\n",
        "# Step 8: Make predictions\n",
        "y_pred = svm_model.predict(X_test)\n",
        "\n",
        "# Step 9: Evaluate the model\n",
        "print(\"Accuracy:\", accuracy_score(y_test, y_pred))\n",
        "print(\"Classification Report:\")\n",
        "print(classification_report(y_test, y_pred))"
      ]
    },
    {
      "cell_type": "markdown",
      "metadata": {
        "id": "SBs7aKapl9T8"
      },
      "source": [
        "## TFIDF"
      ]
    },
    {
      "cell_type": "code",
      "execution_count": null,
      "metadata": {
        "colab": {
          "base_uri": "https://localhost:8080/"
        },
        "id": "t82hLRo-CZXF",
        "outputId": "679beba2-f346-4ce7-8100-1811d237e822"
      },
      "outputs": [
        {
          "name": "stdout",
          "output_type": "stream",
          "text": [
            "TF-IDF vectorizer saved.\n",
            "tfidf Shape (7182, 15892)\n"
          ]
        }
      ],
      "source": [
        "import joblib\n",
        "import numpy as np\n",
        "from gensim.models import Word2Vec\n",
        "from nltk.tokenize import word_tokenize, sent_tokenize\n",
        "from sklearn.feature_extraction.text import TfidfVectorizer\n",
        "from sklearn.model_selection import train_test_split\n",
        "from sklearn.svm import SVC\n",
        "from sklearn.metrics import classification_report, accuracy_score\n",
        "\n",
        "# Step 4: Compute TF-IDF features\n",
        "tfidf_vectorizer = TfidfVectorizer()\n",
        "\n",
        "X_train_new = tfidf_vectorizer.fit_transform(X_train).toarray()\n",
        "X_test_new = tfidf_vectorizer.transform(X_test).toarray()\n",
        "X_val_new = tfidf_vectorizer.transform(X_val).toarray()\n",
        "\n",
        "# Save the TF-IDF vectorizer\n",
        "joblib.dump(tfidf_vectorizer, \"models/tfidf_vectorizer.joblib\")\n",
        "print(\"TF-IDF vectorizer saved.\")\n",
        "print('tfidf Shape',X_train_new.shape)"
      ]
    },
    {
      "cell_type": "markdown",
      "metadata": {
        "id": "odQEDnhCNL1_"
      },
      "source": [
        "## Training All Model Using Tfidf"
      ]
    },
    {
      "cell_type": "code",
      "execution_count": null,
      "metadata": {
        "colab": {
          "base_uri": "https://localhost:8080/"
        },
        "id": "pWlN-urlCZR_",
        "outputId": "42f56eb0-96f0-44e9-e106-b7e439421d03"
      },
      "outputs": [
        {
          "name": "stdout",
          "output_type": "stream",
          "text": [
            "Training SVM model...\n"
          ]
        },
        {
          "name": "stdout",
          "output_type": "stream",
          "text": [
            "Accuracy for SVM: 0.888641425389755\n",
            "Classification Report for SVM:\n",
            "              precision    recall  f1-score   support\n",
            "\n",
            "           0       0.90      0.98      0.93      1468\n",
            "           1       0.83      0.49      0.62       328\n",
            "\n",
            "    accuracy                           0.89      1796\n",
            "   macro avg       0.86      0.74      0.78      1796\n",
            "weighted avg       0.88      0.89      0.88      1796\n",
            "\n",
            "SVM model saved.\n",
            "Training RandomForest model...\n",
            "Accuracy for RandomForest: 0.8780623608017817\n",
            "Classification Report for RandomForest:\n",
            "              precision    recall  f1-score   support\n",
            "\n",
            "           0       0.88      0.98      0.93      1468\n",
            "           1       0.85      0.40      0.55       328\n",
            "\n",
            "    accuracy                           0.88      1796\n",
            "   macro avg       0.87      0.69      0.74      1796\n",
            "weighted avg       0.88      0.88      0.86      1796\n",
            "\n",
            "RandomForest model saved.\n",
            "Training LogisticRegression model...\n",
            "Accuracy for LogisticRegression: 0.8674832962138085\n",
            "Classification Report for LogisticRegression:\n",
            "              precision    recall  f1-score   support\n",
            "\n",
            "           0       0.87      0.99      0.92      1468\n",
            "           1       0.90      0.31      0.46       328\n",
            "\n",
            "    accuracy                           0.87      1796\n",
            "   macro avg       0.88      0.65      0.69      1796\n",
            "weighted avg       0.87      0.87      0.84      1796\n",
            "\n",
            "LogisticRegression model saved.\n",
            "Training KNN model...\n",
            "Accuracy for KNN: 0.8351893095768375\n",
            "Classification Report for KNN:\n",
            "              precision    recall  f1-score   support\n",
            "\n",
            "           0       0.83      1.00      0.91      1468\n",
            "           1       1.00      0.10      0.18       328\n",
            "\n",
            "    accuracy                           0.84      1796\n",
            "   macro avg       0.92      0.55      0.54      1796\n",
            "weighted avg       0.86      0.84      0.77      1796\n",
            "\n",
            "KNN model saved.\n",
            "Training DecisionTree model...\n",
            "Accuracy for DecisionTree: 0.8173719376391982\n",
            "Classification Report for DecisionTree:\n",
            "              precision    recall  f1-score   support\n",
            "\n",
            "           0       0.88      0.89      0.89      1468\n",
            "           1       0.50      0.48      0.49       328\n",
            "\n",
            "    accuracy                           0.82      1796\n",
            "   macro avg       0.69      0.69      0.69      1796\n",
            "weighted avg       0.81      0.82      0.82      1796\n",
            "\n",
            "DecisionTree model saved.\n",
            "Training GradientBoosting model...\n",
            "Accuracy for GradientBoosting: 0.8507795100222717\n",
            "Classification Report for GradientBoosting:\n",
            "              precision    recall  f1-score   support\n",
            "\n",
            "           0       0.85      0.99      0.92      1468\n",
            "           1       0.87      0.22      0.35       328\n",
            "\n",
            "    accuracy                           0.85      1796\n",
            "   macro avg       0.86      0.60      0.63      1796\n",
            "weighted avg       0.85      0.85      0.81      1796\n",
            "\n",
            "GradientBoosting model saved.\n",
            "Training AdaBoost model...\n",
            "Accuracy for AdaBoost: 0.8457683741648107\n",
            "Classification Report for AdaBoost:\n",
            "              precision    recall  f1-score   support\n",
            "\n",
            "           0       0.87      0.95      0.91      1468\n",
            "           1       0.64      0.36      0.46       328\n",
            "\n",
            "    accuracy                           0.85      1796\n",
            "   macro avg       0.75      0.66      0.69      1796\n",
            "weighted avg       0.83      0.85      0.83      1796\n",
            "\n",
            "AdaBoost model saved.\n",
            "Training MLP model...\n",
            "Accuracy for MLP: 0.8691536748329621\n",
            "Classification Report for MLP:\n",
            "              precision    recall  f1-score   support\n",
            "\n",
            "           0       0.91      0.94      0.92      1468\n",
            "           1       0.67      0.57      0.61       328\n",
            "\n",
            "    accuracy                           0.87      1796\n",
            "   macro avg       0.79      0.75      0.77      1796\n",
            "weighted avg       0.86      0.87      0.86      1796\n",
            "\n",
            "MLP model saved.\n",
            "           Classifier  Accuracy\n",
            "0                 SVM  0.888641\n",
            "1        RandomForest  0.878062\n",
            "2  LogisticRegression  0.867483\n",
            "3                 KNN  0.835189\n",
            "4        DecisionTree  0.817372\n",
            "5    GradientBoosting  0.850780\n",
            "6            AdaBoost  0.845768\n",
            "7                 MLP  0.869154\n"
          ]
        }
      ],
      "source": [
        "from sklearn.svm import SVC\n",
        "from sklearn.ensemble import RandomForestClassifier, GradientBoostingClassifier, AdaBoostClassifier\n",
        "from sklearn.linear_model import LogisticRegression\n",
        "from sklearn.neighbors import KNeighborsClassifier\n",
        "from sklearn.tree import DecisionTreeClassifier\n",
        "from sklearn.naive_bayes import MultinomialNB\n",
        "from sklearn.neural_network import MLPClassifier\n",
        "from sklearn.metrics import classification_report, accuracy_score\n",
        "import joblib\n",
        "\n",
        "\n",
        "# List of classifiers to test\n",
        "classifiers = {\n",
        "    'SVM': SVC(kernel='linear'),\n",
        "    'RandomForest': RandomForestClassifier(n_estimators=100),\n",
        "    'LogisticRegression': LogisticRegression(max_iter=200),\n",
        "    'KNN': KNeighborsClassifier(n_neighbors=5),\n",
        "    'DecisionTree': DecisionTreeClassifier(),\n",
        "    'GradientBoosting': GradientBoostingClassifier(),\n",
        "    'AdaBoost': AdaBoostClassifier(),\n",
        "    #'NaiveBayes': MultinomialNB(),\n",
        "    'MLP': MLPClassifier(max_iter=300)\n",
        "}\n",
        "\n",
        "result = {}\n",
        "\n",
        "# Train, evaluate, and save each classifier\n",
        "for name, clf in classifiers.items():\n",
        "    print(f\"Training {name} model...\")\n",
        "    clf.fit(X_train_new, y_train)\n",
        "    y_pred = clf.predict(X_test_new)\n",
        "\n",
        "    print(f\"Accuracy for {name}: {accuracy_score(y_test, y_pred)}\")\n",
        "    result[name] = accuracy_score(y_test, y_pred)\n",
        "    print(f\"Classification Report for {name}:\\n{classification_report(y_test, y_pred)}\")\n",
        "\n",
        "    # Save the trained model\n",
        "    joblib.dump(clf, f\"models/{name}_model.joblib\")\n",
        "    print(f\"{name} model saved.\")\n",
        "\n",
        "result_df = pd.DataFrame(result.items(), columns=['Classifier', 'Accuracy'])\n",
        "print(result_df)"
      ]
    },
    {
      "cell_type": "markdown",
      "metadata": {
        "id": "SIhB0KD-NL2A"
      },
      "source": [
        "### Hyper parameter tunning for Random Forest using Grid Search"
      ]
    },
    {
      "cell_type": "code",
      "execution_count": null,
      "metadata": {
        "colab": {
          "base_uri": "https://localhost:8080/"
        },
        "id": "5BObg-CcCZQU",
        "outputId": "1c95328b-f9aa-492a-c39b-39ed567209ce"
      },
      "outputs": [
        {
          "name": "stdout",
          "output_type": "stream",
          "text": [
            "Fitting 5 folds for each of 100 candidates, totalling 500 fits\n"
          ]
        },
        {
          "name": "stdout",
          "output_type": "stream",
          "text": [
            "[CV] END bootstrap=True, max_depth=30, max_features=auto, min_samples_leaf=3, min_samples_split=9, n_estimators=288; total time=   1.6s\n",
            "[CV] END bootstrap=True, max_depth=30, max_features=auto, min_samples_leaf=3, min_samples_split=9, n_estimators=288; total time=   1.6s\n",
            "[CV] END bootstrap=True, max_depth=30, max_features=auto, min_samples_leaf=3, min_samples_split=9, n_estimators=288; total time=   1.6s\n",
            "[CV] END bootstrap=True, max_depth=30, max_features=auto, min_samples_leaf=3, min_samples_split=6, n_estimators=406; total time=   1.6s\n",
            "[CV] END bootstrap=True, max_depth=30, max_features=auto, min_samples_leaf=3, min_samples_split=9, n_estimators=288; total time=   1.6s\n",
            "[CV] END bootstrap=True, max_depth=30, max_features=auto, min_samples_leaf=3, min_samples_split=6, n_estimators=406; total time=   1.6s\n",
            "[CV] END bootstrap=True, max_depth=30, max_features=auto, min_samples_leaf=3, min_samples_split=9, n_estimators=288; total time=   1.7s\n",
            "[CV] END bootstrap=True, max_depth=40, max_features=auto, min_samples_leaf=3, min_samples_split=3, n_estimators=487; total time=   0.7s\n",
            "[CV] END bootstrap=True, max_depth=40, max_features=auto, min_samples_leaf=3, min_samples_split=3, n_estimators=487; total time=   0.7s\n",
            "[CV] END bootstrap=True, max_depth=40, max_features=auto, min_samples_leaf=3, min_samples_split=3, n_estimators=487; total time=   0.7s\n",
            "[CV] END bootstrap=True, max_depth=30, max_features=auto, min_samples_leaf=3, min_samples_split=6, n_estimators=406; total time=   0.9s\n",
            "[CV] END bootstrap=True, max_depth=40, max_features=auto, min_samples_leaf=3, min_samples_split=3, n_estimators=487; total time=   0.7s\n",
            "[CV] END bootstrap=True, max_depth=30, max_features=auto, min_samples_leaf=3, min_samples_split=6, n_estimators=406; total time=   0.9s\n",
            "[CV] END bootstrap=True, max_depth=30, max_features=auto, min_samples_leaf=3, min_samples_split=6, n_estimators=406; total time=   0.9s\n",
            "[CV] END bootstrap=True, max_depth=40, max_features=auto, min_samples_leaf=3, min_samples_split=3, n_estimators=487; total time=   0.7s\n",
            "[CV] END bootstrap=True, max_depth=10, max_features=log2, min_samples_leaf=4, min_samples_split=8, n_estimators=363; total time=   4.7s\n",
            "[CV] END bootstrap=True, max_depth=10, max_features=log2, min_samples_leaf=4, min_samples_split=8, n_estimators=363; total time=   4.3s\n",
            "[CV] END bootstrap=True, max_depth=10, max_features=log2, min_samples_leaf=3, min_samples_split=9, n_estimators=472; total time=   8.7s\n",
            "[CV] END bootstrap=True, max_depth=10, max_features=log2, min_samples_leaf=3, min_samples_split=9, n_estimators=472; total time=   8.8s\n",
            "[CV] END bootstrap=True, max_depth=10, max_features=log2, min_samples_leaf=3, min_samples_split=9, n_estimators=472; total time=   8.9s\n",
            "[CV] END bootstrap=True, max_depth=10, max_features=log2, min_samples_leaf=3, min_samples_split=9, n_estimators=472; total time=   8.9s\n",
            "[CV] END bootstrap=True, max_depth=10, max_features=log2, min_samples_leaf=3, min_samples_split=9, n_estimators=472; total time=   9.0s\n",
            "[CV] END bootstrap=True, max_depth=10, max_features=log2, min_samples_leaf=4, min_samples_split=8, n_estimators=363; total time=   5.1s\n",
            "[CV] END bootstrap=True, max_depth=10, max_features=log2, min_samples_leaf=4, min_samples_split=8, n_estimators=363; total time=   4.9s\n",
            "[CV] END bootstrap=True, max_depth=10, max_features=log2, min_samples_leaf=4, min_samples_split=8, n_estimators=363; total time=   4.6s\n",
            "[CV] END bootstrap=True, max_depth=20, max_features=log2, min_samples_leaf=2, min_samples_split=4, n_estimators=463; total time=  15.1s\n",
            "[CV] END bootstrap=True, max_depth=20, max_features=log2, min_samples_leaf=2, min_samples_split=4, n_estimators=463; total time=  15.3s\n",
            "[CV] END bootstrap=True, max_depth=20, max_features=log2, min_samples_leaf=2, min_samples_split=4, n_estimators=463; total time=  15.4s\n",
            "[CV] END bootstrap=True, max_depth=20, max_features=log2, min_samples_leaf=2, min_samples_split=4, n_estimators=463; total time=  15.6s\n",
            "[CV] END bootstrap=True, max_depth=20, max_features=log2, min_samples_leaf=2, min_samples_split=4, n_estimators=463; total time=  15.6s\n",
            "[CV] END bootstrap=False, max_depth=10, max_features=sqrt, min_samples_leaf=1, min_samples_split=10, n_estimators=148; total time=  32.9s\n",
            "[CV] END bootstrap=False, max_depth=10, max_features=sqrt, min_samples_leaf=1, min_samples_split=10, n_estimators=148; total time=  33.1s\n",
            "[CV] END bootstrap=False, max_depth=10, max_features=sqrt, min_samples_leaf=1, min_samples_split=10, n_estimators=148; total time=  33.2s\n",
            "[CV] END bootstrap=False, max_depth=10, max_features=sqrt, min_samples_leaf=1, min_samples_split=10, n_estimators=148; total time=  33.2s\n",
            "[CV] END bootstrap=False, max_depth=10, max_features=sqrt, min_samples_leaf=1, min_samples_split=10, n_estimators=148; total time=  33.9s\n",
            "[CV] END bootstrap=True, max_depth=20, max_features=sqrt, min_samples_leaf=1, min_samples_split=5, n_estimators=149; total time=  39.3s\n",
            "[CV] END bootstrap=True, max_depth=20, max_features=sqrt, min_samples_leaf=1, min_samples_split=5, n_estimators=149; total time=  39.3s\n",
            "[CV] END bootstrap=True, max_depth=20, max_features=sqrt, min_samples_leaf=1, min_samples_split=5, n_estimators=149; total time=  39.6s\n",
            "[CV] END bootstrap=True, max_depth=20, max_features=sqrt, min_samples_leaf=1, min_samples_split=5, n_estimators=149; total time=  40.3s\n",
            "[CV] END bootstrap=True, max_depth=20, max_features=sqrt, min_samples_leaf=1, min_samples_split=5, n_estimators=149; total time=  39.6s\n",
            "[CV] END bootstrap=True, max_depth=50, max_features=log2, min_samples_leaf=4, min_samples_split=10, n_estimators=289; total time=   4.2s\n",
            "[CV] END bootstrap=True, max_depth=50, max_features=log2, min_samples_leaf=4, min_samples_split=10, n_estimators=289; total time=   4.3s\n",
            "[CV] END bootstrap=True, max_depth=50, max_features=log2, min_samples_leaf=4, min_samples_split=10, n_estimators=289; total time=   4.2s\n",
            "[CV] END bootstrap=True, max_depth=50, max_features=log2, min_samples_leaf=4, min_samples_split=10, n_estimators=289; total time=   4.2s\n",
            "[CV] END bootstrap=False, max_depth=40, max_features=auto, min_samples_leaf=2, min_samples_split=6, n_estimators=379; total time=   0.5s\n",
            "[CV] END bootstrap=False, max_depth=40, max_features=auto, min_samples_leaf=2, min_samples_split=6, n_estimators=379; total time=   0.5s\n",
            "[CV] END bootstrap=True, max_depth=50, max_features=log2, min_samples_leaf=4, min_samples_split=10, n_estimators=289; total time=   4.3s\n",
            "[CV] END bootstrap=False, max_depth=40, max_features=auto, min_samples_leaf=2, min_samples_split=6, n_estimators=379; total time=   0.6s\n",
            "[CV] END bootstrap=False, max_depth=40, max_features=auto, min_samples_leaf=2, min_samples_split=6, n_estimators=379; total time=   0.7s\n",
            "[CV] END bootstrap=False, max_depth=40, max_features=auto, min_samples_leaf=2, min_samples_split=6, n_estimators=379; total time=   0.6s\n",
            "[CV] END bootstrap=False, max_depth=None, max_features=auto, min_samples_leaf=1, min_samples_split=2, n_estimators=444; total time=   0.6s\n",
            "[CV] END bootstrap=False, max_depth=None, max_features=auto, min_samples_leaf=1, min_samples_split=2, n_estimators=444; total time=   0.6s\n",
            "[CV] END bootstrap=False, max_depth=None, max_features=auto, min_samples_leaf=1, min_samples_split=2, n_estimators=444; total time=   0.6s\n",
            "[CV] END bootstrap=False, max_depth=None, max_features=auto, min_samples_leaf=1, min_samples_split=2, n_estimators=444; total time=   0.6s\n",
            "[CV] END bootstrap=False, max_depth=None, max_features=auto, min_samples_leaf=1, min_samples_split=2, n_estimators=444; total time=   0.6s\n",
            "[CV] END bootstrap=True, max_depth=None, max_features=auto, min_samples_leaf=4, min_samples_split=9, n_estimators=162; total time=   0.6s\n",
            "[CV] END bootstrap=True, max_depth=None, max_features=auto, min_samples_leaf=4, min_samples_split=9, n_estimators=162; total time=   0.6s\n",
            "[CV] END bootstrap=True, max_depth=None, max_features=auto, min_samples_leaf=4, min_samples_split=9, n_estimators=162; total time=   0.6s\n",
            "[CV] END bootstrap=True, max_depth=None, max_features=auto, min_samples_leaf=4, min_samples_split=9, n_estimators=162; total time=   0.6s\n",
            "[CV] END bootstrap=True, max_depth=None, max_features=auto, min_samples_leaf=4, min_samples_split=9, n_estimators=162; total time=   0.6s\n",
            "[CV] END bootstrap=True, max_depth=20, max_features=auto, min_samples_leaf=4, min_samples_split=4, n_estimators=388; total time=   0.6s\n",
            "[CV] END bootstrap=True, max_depth=20, max_features=auto, min_samples_leaf=4, min_samples_split=4, n_estimators=388; total time=   0.6s\n",
            "[CV] END bootstrap=True, max_depth=20, max_features=auto, min_samples_leaf=4, min_samples_split=4, n_estimators=388; total time=   0.6s\n",
            "[CV] END bootstrap=True, max_depth=20, max_features=auto, min_samples_leaf=4, min_samples_split=4, n_estimators=388; total time=   0.6s\n",
            "[CV] END bootstrap=True, max_depth=20, max_features=auto, min_samples_leaf=4, min_samples_split=4, n_estimators=388; total time=   0.6s\n",
            "[CV] END bootstrap=False, max_depth=30, max_features=sqrt, min_samples_leaf=2, min_samples_split=7, n_estimators=153; total time= 1.5min\n",
            "[CV] END bootstrap=False, max_depth=30, max_features=sqrt, min_samples_leaf=2, min_samples_split=7, n_estimators=153; total time= 1.5min\n",
            "[CV] END bootstrap=False, max_depth=30, max_features=sqrt, min_samples_leaf=2, min_samples_split=7, n_estimators=153; total time= 1.5min\n",
            "[CV] END bootstrap=False, max_depth=30, max_features=sqrt, min_samples_leaf=2, min_samples_split=7, n_estimators=153; total time= 1.5min\n",
            "[CV] END bootstrap=False, max_depth=30, max_features=sqrt, min_samples_leaf=2, min_samples_split=7, n_estimators=153; total time= 1.5min\n",
            "[CV] END bootstrap=False, max_depth=10, max_features=sqrt, min_samples_leaf=2, min_samples_split=5, n_estimators=369; total time= 1.3min\n",
            "[CV] END bootstrap=False, max_depth=10, max_features=sqrt, min_samples_leaf=2, min_samples_split=5, n_estimators=369; total time= 1.3min\n",
            "[CV] END bootstrap=False, max_depth=10, max_features=sqrt, min_samples_leaf=2, min_samples_split=5, n_estimators=369; total time= 1.3min\n",
            "[CV] END bootstrap=False, max_depth=10, max_features=sqrt, min_samples_leaf=2, min_samples_split=5, n_estimators=369; total time= 1.3min\n",
            "[CV] END bootstrap=False, max_depth=10, max_features=sqrt, min_samples_leaf=2, min_samples_split=5, n_estimators=369; total time= 1.3min\n",
            "[CV] END bootstrap=True, max_depth=40, max_features=sqrt, min_samples_leaf=3, min_samples_split=10, n_estimators=127; total time= 1.0min\n",
            "[CV] END bootstrap=True, max_depth=40, max_features=sqrt, min_samples_leaf=3, min_samples_split=10, n_estimators=127; total time= 1.0min\n",
            "[CV] END bootstrap=False, max_depth=40, max_features=log2, min_samples_leaf=4, min_samples_split=9, n_estimators=313; total time=  10.1s\n",
            "[CV] END bootstrap=False, max_depth=40, max_features=log2, min_samples_leaf=4, min_samples_split=9, n_estimators=313; total time=  10.2s\n",
            "[CV] END bootstrap=True, max_depth=20, max_features=auto, min_samples_leaf=3, min_samples_split=6, n_estimators=230; total time=   0.6s\n",
            "[CV] END bootstrap=True, max_depth=20, max_features=auto, min_samples_leaf=3, min_samples_split=6, n_estimators=230; total time=   0.6s\n",
            "[CV] END bootstrap=False, max_depth=40, max_features=log2, min_samples_leaf=4, min_samples_split=9, n_estimators=313; total time=   9.5s\n",
            "[CV] END bootstrap=True, max_depth=20, max_features=auto, min_samples_leaf=3, min_samples_split=6, n_estimators=230; total time=   0.6s\n",
            "[CV] END bootstrap=False, max_depth=40, max_features=log2, min_samples_leaf=4, min_samples_split=9, n_estimators=313; total time=  10.1s\n",
            "[CV] END bootstrap=True, max_depth=20, max_features=auto, min_samples_leaf=3, min_samples_split=6, n_estimators=230; total time=   0.7s\n",
            "[CV] END bootstrap=True, max_depth=20, max_features=auto, min_samples_leaf=3, min_samples_split=6, n_estimators=230; total time=   0.6s\n",
            "[CV] END bootstrap=False, max_depth=40, max_features=log2, min_samples_leaf=4, min_samples_split=9, n_estimators=313; total time=  10.1s\n",
            "[CV] END bootstrap=True, max_depth=40, max_features=sqrt, min_samples_leaf=3, min_samples_split=10, n_estimators=127; total time=  59.5s\n",
            "[CV] END bootstrap=True, max_depth=30, max_features=sqrt, min_samples_leaf=2, min_samples_split=10, n_estimators=445; total time= 2.7min\n",
            "[CV] END bootstrap=True, max_depth=40, max_features=sqrt, min_samples_leaf=3, min_samples_split=10, n_estimators=127; total time=  60.0s\n",
            "[CV] END bootstrap=True, max_depth=40, max_features=sqrt, min_samples_leaf=3, min_samples_split=10, n_estimators=127; total time= 1.0min\n",
            "[CV] END bootstrap=True, max_depth=30, max_features=sqrt, min_samples_leaf=2, min_samples_split=10, n_estimators=445; total time= 2.7min\n",
            "[CV] END bootstrap=True, max_depth=30, max_features=sqrt, min_samples_leaf=2, min_samples_split=10, n_estimators=445; total time= 2.7min\n",
            "[CV] END bootstrap=True, max_depth=30, max_features=sqrt, min_samples_leaf=2, min_samples_split=10, n_estimators=445; total time= 2.8min\n",
            "[CV] END bootstrap=True, max_depth=30, max_features=sqrt, min_samples_leaf=2, min_samples_split=10, n_estimators=445; total time= 2.8min\n",
            "[CV] END bootstrap=False, max_depth=None, max_features=auto, min_samples_leaf=4, min_samples_split=5, n_estimators=321; total time=   0.6s\n",
            "[CV] END bootstrap=False, max_depth=None, max_features=auto, min_samples_leaf=4, min_samples_split=5, n_estimators=321; total time=   0.7s\n",
            "[CV] END bootstrap=False, max_depth=None, max_features=auto, min_samples_leaf=4, min_samples_split=5, n_estimators=321; total time=   0.6s\n",
            "[CV] END bootstrap=False, max_depth=None, max_features=auto, min_samples_leaf=4, min_samples_split=5, n_estimators=321; total time=   0.7s\n",
            "[CV] END bootstrap=False, max_depth=None, max_features=auto, min_samples_leaf=4, min_samples_split=5, n_estimators=321; total time=   0.6s\n",
            "[CV] END bootstrap=True, max_depth=40, max_features=log2, min_samples_leaf=3, min_samples_split=5, n_estimators=112; total time=   3.3s\n",
            "[CV] END bootstrap=True, max_depth=40, max_features=log2, min_samples_leaf=3, min_samples_split=5, n_estimators=112; total time=   3.1s\n",
            "[CV] END bootstrap=True, max_depth=40, max_features=log2, min_samples_leaf=3, min_samples_split=5, n_estimators=112; total time=   2.9s\n",
            "[CV] END bootstrap=True, max_depth=40, max_features=log2, min_samples_leaf=3, min_samples_split=5, n_estimators=112; total time=   3.2s\n",
            "[CV] END bootstrap=True, max_depth=40, max_features=log2, min_samples_leaf=3, min_samples_split=5, n_estimators=112; total time=   3.1s\n",
            "[CV] END bootstrap=False, max_depth=20, max_features=sqrt, min_samples_leaf=1, min_samples_split=3, n_estimators=443; total time= 3.0min\n",
            "[CV] END bootstrap=False, max_depth=20, max_features=sqrt, min_samples_leaf=1, min_samples_split=3, n_estimators=443; total time= 3.0min\n",
            "[CV] END bootstrap=False, max_depth=20, max_features=sqrt, min_samples_leaf=1, min_samples_split=3, n_estimators=443; total time= 3.0min\n",
            "[CV] END bootstrap=False, max_depth=20, max_features=sqrt, min_samples_leaf=1, min_samples_split=3, n_estimators=443; total time= 3.1min\n",
            "[CV] END bootstrap=False, max_depth=20, max_features=sqrt, min_samples_leaf=1, min_samples_split=3, n_estimators=443; total time= 3.1min\n",
            "[CV] END bootstrap=True, max_depth=50, max_features=auto, min_samples_leaf=1, min_samples_split=7, n_estimators=383; total time=   0.6s\n",
            "[CV] END bootstrap=True, max_depth=50, max_features=auto, min_samples_leaf=1, min_samples_split=7, n_estimators=383; total time=   0.6s\n",
            "[CV] END bootstrap=True, max_depth=50, max_features=auto, min_samples_leaf=1, min_samples_split=7, n_estimators=383; total time=   0.6s\n",
            "[CV] END bootstrap=True, max_depth=50, max_features=auto, min_samples_leaf=1, min_samples_split=7, n_estimators=383; total time=   0.6s\n",
            "[CV] END bootstrap=True, max_depth=50, max_features=auto, min_samples_leaf=1, min_samples_split=7, n_estimators=383; total time=   0.6s\n",
            "[CV] END bootstrap=True, max_depth=10, max_features=sqrt, min_samples_leaf=4, min_samples_split=4, n_estimators=162; total time=  22.1s\n",
            "[CV] END bootstrap=True, max_depth=10, max_features=sqrt, min_samples_leaf=4, min_samples_split=4, n_estimators=162; total time=  22.1s\n",
            "[CV] END bootstrap=True, max_depth=10, max_features=sqrt, min_samples_leaf=4, min_samples_split=4, n_estimators=162; total time=  22.7s\n",
            "[CV] END bootstrap=True, max_depth=10, max_features=sqrt, min_samples_leaf=4, min_samples_split=4, n_estimators=162; total time=  22.7s\n",
            "[CV] END bootstrap=True, max_depth=50, max_features=auto, min_samples_leaf=1, min_samples_split=10, n_estimators=382; total time=   0.7s\n",
            "[CV] END bootstrap=True, max_depth=10, max_features=sqrt, min_samples_leaf=4, min_samples_split=4, n_estimators=162; total time=  22.5s\n",
            "[CV] END bootstrap=True, max_depth=50, max_features=auto, min_samples_leaf=1, min_samples_split=10, n_estimators=382; total time=   0.6s\n",
            "[CV] END bootstrap=True, max_depth=50, max_features=auto, min_samples_leaf=1, min_samples_split=10, n_estimators=382; total time=   0.6s\n",
            "[CV] END bootstrap=True, max_depth=50, max_features=auto, min_samples_leaf=1, min_samples_split=10, n_estimators=382; total time=   0.6s\n",
            "[CV] END bootstrap=True, max_depth=50, max_features=auto, min_samples_leaf=1, min_samples_split=10, n_estimators=382; total time=   0.6s\n",
            "[CV] END bootstrap=False, max_depth=None, max_features=auto, min_samples_leaf=1, min_samples_split=4, n_estimators=458; total time=   0.6s\n",
            "[CV] END bootstrap=False, max_depth=None, max_features=auto, min_samples_leaf=1, min_samples_split=4, n_estimators=458; total time=   0.6s\n",
            "[CV] END bootstrap=False, max_depth=20, max_features=log2, min_samples_leaf=2, min_samples_split=3, n_estimators=269; total time=  14.4s\n",
            "[CV] END bootstrap=False, max_depth=None, max_features=auto, min_samples_leaf=1, min_samples_split=4, n_estimators=458; total time=   0.6s\n",
            "[CV] END bootstrap=False, max_depth=None, max_features=auto, min_samples_leaf=1, min_samples_split=4, n_estimators=458; total time=   0.5s\n",
            "[CV] END bootstrap=False, max_depth=None, max_features=auto, min_samples_leaf=1, min_samples_split=4, n_estimators=458; total time=   0.6s\n",
            "[CV] END bootstrap=False, max_depth=20, max_features=auto, min_samples_leaf=2, min_samples_split=6, n_estimators=324; total time=   0.6s\n",
            "[CV] END bootstrap=False, max_depth=20, max_features=auto, min_samples_leaf=2, min_samples_split=6, n_estimators=324; total time=   0.6s\n",
            "[CV] END bootstrap=False, max_depth=20, max_features=auto, min_samples_leaf=2, min_samples_split=6, n_estimators=324; total time=   0.6s\n",
            "[CV] END bootstrap=False, max_depth=20, max_features=auto, min_samples_leaf=2, min_samples_split=6, n_estimators=324; total time=   0.6s\n",
            "[CV] END bootstrap=False, max_depth=20, max_features=auto, min_samples_leaf=2, min_samples_split=6, n_estimators=324; total time=   0.6s\n",
            "[CV] END bootstrap=False, max_depth=20, max_features=log2, min_samples_leaf=2, min_samples_split=3, n_estimators=269; total time=  14.4s\n",
            "[CV] END bootstrap=False, max_depth=20, max_features=log2, min_samples_leaf=2, min_samples_split=3, n_estimators=269; total time=  14.0s\n",
            "[CV] END bootstrap=False, max_depth=20, max_features=log2, min_samples_leaf=2, min_samples_split=3, n_estimators=269; total time=  14.5s\n",
            "[CV] END bootstrap=True, max_depth=10, max_features=log2, min_samples_leaf=3, min_samples_split=7, n_estimators=259; total time=   4.4s\n",
            "[CV] END bootstrap=True, max_depth=10, max_features=log2, min_samples_leaf=3, min_samples_split=7, n_estimators=259; total time=   4.5s\n",
            "[CV] END bootstrap=True, max_depth=10, max_features=log2, min_samples_leaf=3, min_samples_split=7, n_estimators=259; total time=   4.4s\n",
            "[CV] END bootstrap=False, max_depth=20, max_features=log2, min_samples_leaf=2, min_samples_split=3, n_estimators=269; total time=  14.4s\n",
            "[CV] END bootstrap=False, max_depth=None, max_features=auto, min_samples_leaf=2, min_samples_split=2, n_estimators=151; total time=   0.5s\n",
            "[CV] END bootstrap=False, max_depth=None, max_features=auto, min_samples_leaf=2, min_samples_split=2, n_estimators=151; total time=   0.6s\n",
            "[CV] END bootstrap=False, max_depth=None, max_features=auto, min_samples_leaf=2, min_samples_split=2, n_estimators=151; total time=   0.6s\n",
            "[CV] END bootstrap=False, max_depth=None, max_features=auto, min_samples_leaf=2, min_samples_split=2, n_estimators=151; total time=   0.6s\n",
            "[CV] END bootstrap=False, max_depth=None, max_features=auto, min_samples_leaf=2, min_samples_split=2, n_estimators=151; total time=   0.6s\n",
            "[CV] END bootstrap=True, max_depth=10, max_features=log2, min_samples_leaf=3, min_samples_split=7, n_estimators=259; total time=   4.5s\n",
            "[CV] END bootstrap=True, max_depth=None, max_features=auto, min_samples_leaf=3, min_samples_split=2, n_estimators=101; total time=   0.8s\n",
            "[CV] END bootstrap=True, max_depth=None, max_features=auto, min_samples_leaf=3, min_samples_split=2, n_estimators=101; total time=   0.5s\n",
            "[CV] END bootstrap=True, max_depth=None, max_features=auto, min_samples_leaf=3, min_samples_split=2, n_estimators=101; total time=   0.5s\n",
            "[CV] END bootstrap=True, max_depth=10, max_features=log2, min_samples_leaf=3, min_samples_split=7, n_estimators=259; total time=   4.7s\n",
            "[CV] END bootstrap=True, max_depth=None, max_features=auto, min_samples_leaf=3, min_samples_split=2, n_estimators=101; total time=   0.5s\n",
            "[CV] END bootstrap=True, max_depth=None, max_features=auto, min_samples_leaf=3, min_samples_split=2, n_estimators=101; total time=   0.5s\n",
            "[CV] END bootstrap=False, max_depth=30, max_features=sqrt, min_samples_leaf=1, min_samples_split=3, n_estimators=317; total time= 3.2min\n",
            "[CV] END bootstrap=False, max_depth=30, max_features=sqrt, min_samples_leaf=1, min_samples_split=3, n_estimators=317; total time= 3.2min\n",
            "[CV] END bootstrap=False, max_depth=50, max_features=log2, min_samples_leaf=2, min_samples_split=4, n_estimators=212; total time=  23.6s\n",
            "[CV] END bootstrap=False, max_depth=50, max_features=log2, min_samples_leaf=2, min_samples_split=4, n_estimators=212; total time=  23.5s\n",
            "[CV] END bootstrap=False, max_depth=50, max_features=log2, min_samples_leaf=2, min_samples_split=4, n_estimators=212; total time=  23.7s\n",
            "[CV] END bootstrap=False, max_depth=50, max_features=log2, min_samples_leaf=2, min_samples_split=4, n_estimators=212; total time=  23.5s\n",
            "[CV] END bootstrap=False, max_depth=50, max_features=log2, min_samples_leaf=2, min_samples_split=4, n_estimators=212; total time=  23.9s\n",
            "[CV] END bootstrap=False, max_depth=30, max_features=sqrt, min_samples_leaf=1, min_samples_split=3, n_estimators=317; total time= 3.2min\n",
            "[CV] END bootstrap=False, max_depth=30, max_features=sqrt, min_samples_leaf=1, min_samples_split=3, n_estimators=317; total time= 3.2min\n",
            "[CV] END bootstrap=False, max_depth=30, max_features=sqrt, min_samples_leaf=1, min_samples_split=3, n_estimators=317; total time= 3.2min\n",
            "[CV] END bootstrap=True, max_depth=None, max_features=log2, min_samples_leaf=2, min_samples_split=3, n_estimators=152; total time=   9.2s\n",
            "[CV] END bootstrap=True, max_depth=None, max_features=log2, min_samples_leaf=2, min_samples_split=3, n_estimators=152; total time=   9.7s\n",
            "[CV] END bootstrap=True, max_depth=None, max_features=log2, min_samples_leaf=2, min_samples_split=3, n_estimators=152; total time=   9.5s\n",
            "[CV] END bootstrap=True, max_depth=None, max_features=log2, min_samples_leaf=2, min_samples_split=3, n_estimators=152; total time=  10.5s\n",
            "[CV] END bootstrap=True, max_depth=None, max_features=log2, min_samples_leaf=2, min_samples_split=3, n_estimators=152; total time=  10.5s\n",
            "[CV] END bootstrap=False, max_depth=50, max_features=sqrt, min_samples_leaf=2, min_samples_split=6, n_estimators=260; total time= 4.1min\n",
            "[CV] END bootstrap=False, max_depth=50, max_features=sqrt, min_samples_leaf=2, min_samples_split=6, n_estimators=260; total time= 4.1min\n",
            "[CV] END bootstrap=False, max_depth=50, max_features=sqrt, min_samples_leaf=2, min_samples_split=6, n_estimators=260; total time= 4.1min\n",
            "[CV] END bootstrap=False, max_depth=50, max_features=sqrt, min_samples_leaf=2, min_samples_split=6, n_estimators=260; total time= 4.1min\n",
            "[CV] END bootstrap=True, max_depth=20, max_features=log2, min_samples_leaf=1, min_samples_split=7, n_estimators=379; total time=  14.0s\n",
            "[CV] END bootstrap=False, max_depth=50, max_features=sqrt, min_samples_leaf=2, min_samples_split=6, n_estimators=260; total time= 4.2min\n",
            "[CV] END bootstrap=True, max_depth=20, max_features=log2, min_samples_leaf=1, min_samples_split=7, n_estimators=379; total time=  14.0s\n",
            "[CV] END bootstrap=True, max_depth=20, max_features=log2, min_samples_leaf=1, min_samples_split=7, n_estimators=379; total time=  13.8s\n",
            "[CV] END bootstrap=True, max_depth=20, max_features=log2, min_samples_leaf=1, min_samples_split=7, n_estimators=379; total time=  14.1s\n",
            "[CV] END bootstrap=True, max_depth=20, max_features=log2, min_samples_leaf=1, min_samples_split=7, n_estimators=379; total time=  14.1s\n",
            "[CV] END bootstrap=True, max_depth=None, max_features=auto, min_samples_leaf=4, min_samples_split=7, n_estimators=448; total time=   0.6s\n",
            "[CV] END bootstrap=True, max_depth=None, max_features=auto, min_samples_leaf=4, min_samples_split=7, n_estimators=448; total time=   0.6s\n",
            "[CV] END bootstrap=True, max_depth=None, max_features=auto, min_samples_leaf=4, min_samples_split=7, n_estimators=448; total time=   0.6s\n",
            "[CV] END bootstrap=True, max_depth=None, max_features=auto, min_samples_leaf=4, min_samples_split=7, n_estimators=448; total time=   0.6s\n",
            "[CV] END bootstrap=True, max_depth=None, max_features=auto, min_samples_leaf=4, min_samples_split=7, n_estimators=448; total time=   0.6s\n",
            "[CV] END bootstrap=True, max_depth=30, max_features=log2, min_samples_leaf=4, min_samples_split=4, n_estimators=445; total time=   5.7s\n",
            "[CV] END bootstrap=True, max_depth=30, max_features=log2, min_samples_leaf=4, min_samples_split=4, n_estimators=445; total time=   6.1s\n",
            "[CV] END bootstrap=True, max_depth=30, max_features=log2, min_samples_leaf=4, min_samples_split=4, n_estimators=445; total time=   6.0s\n",
            "[CV] END bootstrap=True, max_depth=30, max_features=log2, min_samples_leaf=4, min_samples_split=4, n_estimators=445; total time=   5.9s\n",
            "[CV] END bootstrap=True, max_depth=20, max_features=log2, min_samples_leaf=4, min_samples_split=10, n_estimators=227; total time=   3.5s\n",
            "[CV] END bootstrap=True, max_depth=30, max_features=log2, min_samples_leaf=4, min_samples_split=4, n_estimators=445; total time=   5.8s\n",
            "[CV] END bootstrap=True, max_depth=20, max_features=log2, min_samples_leaf=4, min_samples_split=10, n_estimators=227; total time=   3.5s\n",
            "[CV] END bootstrap=True, max_depth=20, max_features=log2, min_samples_leaf=4, min_samples_split=10, n_estimators=227; total time=   3.4s\n",
            "[CV] END bootstrap=True, max_depth=20, max_features=log2, min_samples_leaf=4, min_samples_split=10, n_estimators=227; total time=   3.5s\n",
            "[CV] END bootstrap=True, max_depth=10, max_features=auto, min_samples_leaf=3, min_samples_split=10, n_estimators=250; total time=   0.6s\n",
            "[CV] END bootstrap=True, max_depth=10, max_features=auto, min_samples_leaf=3, min_samples_split=10, n_estimators=250; total time=   0.6s\n",
            "[CV] END bootstrap=True, max_depth=20, max_features=log2, min_samples_leaf=4, min_samples_split=10, n_estimators=227; total time=   3.5s\n",
            "[CV] END bootstrap=True, max_depth=10, max_features=auto, min_samples_leaf=3, min_samples_split=10, n_estimators=250; total time=   0.6s\n",
            "[CV] END bootstrap=True, max_depth=10, max_features=auto, min_samples_leaf=3, min_samples_split=10, n_estimators=250; total time=   0.6s\n",
            "[CV] END bootstrap=True, max_depth=10, max_features=auto, min_samples_leaf=3, min_samples_split=10, n_estimators=250; total time=   0.6s\n",
            "[CV] END bootstrap=False, max_depth=10, max_features=sqrt, min_samples_leaf=4, min_samples_split=8, n_estimators=423; total time= 1.4min\n",
            "[CV] END bootstrap=False, max_depth=10, max_features=sqrt, min_samples_leaf=4, min_samples_split=8, n_estimators=423; total time= 1.5min\n",
            "[CV] END bootstrap=False, max_depth=10, max_features=sqrt, min_samples_leaf=4, min_samples_split=8, n_estimators=423; total time= 1.4min\n",
            "[CV] END bootstrap=False, max_depth=10, max_features=sqrt, min_samples_leaf=4, min_samples_split=8, n_estimators=423; total time= 1.5min\n",
            "[CV] END bootstrap=False, max_depth=10, max_features=auto, min_samples_leaf=4, min_samples_split=2, n_estimators=101; total time=   0.6s\n",
            "[CV] END bootstrap=False, max_depth=10, max_features=sqrt, min_samples_leaf=4, min_samples_split=8, n_estimators=423; total time= 1.5min\n",
            "[CV] END bootstrap=True, max_depth=40, max_features=sqrt, min_samples_leaf=3, min_samples_split=8, n_estimators=382; total time= 3.0min\n",
            "[CV] END bootstrap=False, max_depth=10, max_features=auto, min_samples_leaf=4, min_samples_split=2, n_estimators=101; total time=   0.6s\n",
            "[CV] END bootstrap=False, max_depth=10, max_features=auto, min_samples_leaf=4, min_samples_split=2, n_estimators=101; total time=   0.6s\n",
            "[CV] END bootstrap=False, max_depth=10, max_features=auto, min_samples_leaf=4, min_samples_split=2, n_estimators=101; total time=   0.6s\n",
            "[CV] END bootstrap=True, max_depth=40, max_features=sqrt, min_samples_leaf=3, min_samples_split=8, n_estimators=382; total time= 3.0min\n",
            "[CV] END bootstrap=False, max_depth=10, max_features=auto, min_samples_leaf=4, min_samples_split=2, n_estimators=101; total time=   0.6s\n",
            "[CV] END bootstrap=True, max_depth=50, max_features=auto, min_samples_leaf=1, min_samples_split=8, n_estimators=108; total time=   0.6s\n",
            "[CV] END bootstrap=True, max_depth=40, max_features=sqrt, min_samples_leaf=3, min_samples_split=8, n_estimators=382; total time= 3.0min\n",
            "[CV] END bootstrap=True, max_depth=50, max_features=auto, min_samples_leaf=1, min_samples_split=8, n_estimators=108; total time=   0.6s\n",
            "[CV] END bootstrap=True, max_depth=50, max_features=auto, min_samples_leaf=1, min_samples_split=8, n_estimators=108; total time=   0.7s\n",
            "[CV] END bootstrap=True, max_depth=50, max_features=auto, min_samples_leaf=1, min_samples_split=8, n_estimators=108; total time=   0.6s\n",
            "[CV] END bootstrap=True, max_depth=50, max_features=auto, min_samples_leaf=1, min_samples_split=8, n_estimators=108; total time=   0.6s\n",
            "[CV] END bootstrap=True, max_depth=20, max_features=log2, min_samples_leaf=4, min_samples_split=4, n_estimators=251; total time=   3.6s\n",
            "[CV] END bootstrap=True, max_depth=20, max_features=log2, min_samples_leaf=4, min_samples_split=4, n_estimators=251; total time=   3.8s\n",
            "[CV] END bootstrap=True, max_depth=20, max_features=log2, min_samples_leaf=4, min_samples_split=4, n_estimators=251; total time=   3.7s\n",
            "[CV] END bootstrap=True, max_depth=20, max_features=log2, min_samples_leaf=4, min_samples_split=4, n_estimators=251; total time=   3.7s\n",
            "[CV] END bootstrap=True, max_depth=20, max_features=log2, min_samples_leaf=4, min_samples_split=4, n_estimators=251; total time=   3.9s\n",
            "[CV] END bootstrap=True, max_depth=40, max_features=sqrt, min_samples_leaf=3, min_samples_split=8, n_estimators=382; total time= 3.0min\n",
            "[CV] END bootstrap=False, max_depth=50, max_features=log2, min_samples_leaf=4, min_samples_split=10, n_estimators=198; total time=   6.9s\n",
            "[CV] END bootstrap=False, max_depth=50, max_features=log2, min_samples_leaf=4, min_samples_split=10, n_estimators=198; total time=   6.5s\n",
            "[CV] END bootstrap=True, max_depth=40, max_features=sqrt, min_samples_leaf=3, min_samples_split=8, n_estimators=382; total time= 3.0min\n",
            "[CV] END bootstrap=False, max_depth=50, max_features=log2, min_samples_leaf=4, min_samples_split=10, n_estimators=198; total time=   6.4s\n",
            "[CV] END bootstrap=False, max_depth=50, max_features=log2, min_samples_leaf=4, min_samples_split=10, n_estimators=198; total time=   6.4s\n",
            "[CV] END bootstrap=False, max_depth=50, max_features=log2, min_samples_leaf=4, min_samples_split=10, n_estimators=198; total time=   6.1s\n",
            "[CV] END bootstrap=False, max_depth=30, max_features=sqrt, min_samples_leaf=3, min_samples_split=6, n_estimators=323; total time= 3.1min\n",
            "[CV] END bootstrap=False, max_depth=30, max_features=sqrt, min_samples_leaf=3, min_samples_split=6, n_estimators=323; total time= 3.1min\n",
            "[CV] END bootstrap=False, max_depth=30, max_features=sqrt, min_samples_leaf=3, min_samples_split=6, n_estimators=323; total time= 3.1min\n",
            "[CV] END bootstrap=False, max_depth=30, max_features=sqrt, min_samples_leaf=3, min_samples_split=6, n_estimators=323; total time= 3.2min\n",
            "[CV] END bootstrap=False, max_depth=20, max_features=auto, min_samples_leaf=1, min_samples_split=5, n_estimators=260; total time=   0.6s\n",
            "[CV] END bootstrap=False, max_depth=20, max_features=auto, min_samples_leaf=1, min_samples_split=5, n_estimators=260; total time=   0.5s\n",
            "[CV] END bootstrap=False, max_depth=20, max_features=auto, min_samples_leaf=1, min_samples_split=5, n_estimators=260; total time=   0.6s\n",
            "[CV] END bootstrap=False, max_depth=20, max_features=auto, min_samples_leaf=1, min_samples_split=5, n_estimators=260; total time=   0.6s\n",
            "[CV] END bootstrap=False, max_depth=20, max_features=auto, min_samples_leaf=1, min_samples_split=5, n_estimators=260; total time=   0.6s\n",
            "[CV] END bootstrap=False, max_depth=30, max_features=sqrt, min_samples_leaf=3, min_samples_split=6, n_estimators=323; total time= 3.1min\n",
            "[CV] END bootstrap=True, max_depth=30, max_features=sqrt, min_samples_leaf=2, min_samples_split=7, n_estimators=494; total time= 3.0min\n",
            "[CV] END bootstrap=True, max_depth=30, max_features=sqrt, min_samples_leaf=2, min_samples_split=7, n_estimators=494; total time= 3.0min\n",
            "[CV] END bootstrap=True, max_depth=30, max_features=sqrt, min_samples_leaf=2, min_samples_split=7, n_estimators=494; total time= 3.0min\n",
            "[CV] END bootstrap=True, max_depth=30, max_features=sqrt, min_samples_leaf=2, min_samples_split=7, n_estimators=494; total time= 3.0min\n",
            "[CV] END bootstrap=False, max_depth=20, max_features=auto, min_samples_leaf=4, min_samples_split=2, n_estimators=275; total time=   0.5s\n",
            "[CV] END bootstrap=False, max_depth=20, max_features=auto, min_samples_leaf=4, min_samples_split=2, n_estimators=275; total time=   0.6s\n",
            "[CV] END bootstrap=False, max_depth=20, max_features=auto, min_samples_leaf=4, min_samples_split=2, n_estimators=275; total time=   0.6s\n",
            "[CV] END bootstrap=False, max_depth=20, max_features=auto, min_samples_leaf=4, min_samples_split=2, n_estimators=275; total time=   0.6s\n",
            "[CV] END bootstrap=False, max_depth=20, max_features=auto, min_samples_leaf=4, min_samples_split=2, n_estimators=275; total time=   0.6s\n",
            "[CV] END bootstrap=True, max_depth=30, max_features=sqrt, min_samples_leaf=2, min_samples_split=7, n_estimators=494; total time= 3.0min\n",
            "[CV] END bootstrap=False, max_depth=20, max_features=log2, min_samples_leaf=2, min_samples_split=8, n_estimators=121; total time=   6.9s\n",
            "[CV] END bootstrap=False, max_depth=30, max_features=sqrt, min_samples_leaf=2, min_samples_split=8, n_estimators=447; total time= 4.3min\n",
            "[CV] END bootstrap=False, max_depth=20, max_features=log2, min_samples_leaf=2, min_samples_split=8, n_estimators=121; total time=   6.8s\n",
            "[CV] END bootstrap=False, max_depth=30, max_features=sqrt, min_samples_leaf=2, min_samples_split=8, n_estimators=447; total time= 4.4min\n",
            "[CV] END bootstrap=False, max_depth=20, max_features=log2, min_samples_leaf=2, min_samples_split=8, n_estimators=121; total time=   6.5s\n",
            "[CV] END bootstrap=False, max_depth=30, max_features=sqrt, min_samples_leaf=2, min_samples_split=8, n_estimators=447; total time= 4.4min\n",
            "[CV] END bootstrap=False, max_depth=30, max_features=sqrt, min_samples_leaf=2, min_samples_split=8, n_estimators=447; total time= 4.4min\n",
            "[CV] END bootstrap=False, max_depth=30, max_features=sqrt, min_samples_leaf=2, min_samples_split=8, n_estimators=447; total time= 4.4min\n",
            "[CV] END bootstrap=False, max_depth=20, max_features=log2, min_samples_leaf=2, min_samples_split=8, n_estimators=121; total time=   6.7s\n",
            "[CV] END bootstrap=False, max_depth=20, max_features=log2, min_samples_leaf=2, min_samples_split=8, n_estimators=121; total time=   6.7s\n",
            "[CV] END bootstrap=True, max_depth=50, max_features=sqrt, min_samples_leaf=3, min_samples_split=8, n_estimators=351; total time= 3.3min\n",
            "[CV] END bootstrap=True, max_depth=50, max_features=sqrt, min_samples_leaf=3, min_samples_split=8, n_estimators=351; total time= 3.3min\n",
            "[CV] END bootstrap=True, max_depth=40, max_features=sqrt, min_samples_leaf=4, min_samples_split=3, n_estimators=293; total time= 2.2min\n",
            "[CV] END bootstrap=True, max_depth=40, max_features=sqrt, min_samples_leaf=4, min_samples_split=3, n_estimators=293; total time= 2.2min\n",
            "[CV] END bootstrap=True, max_depth=None, max_features=auto, min_samples_leaf=4, min_samples_split=4, n_estimators=103; total time=   0.5s\n",
            "[CV] END bootstrap=True, max_depth=None, max_features=auto, min_samples_leaf=4, min_samples_split=4, n_estimators=103; total time=   0.5s\n",
            "[CV] END bootstrap=True, max_depth=None, max_features=auto, min_samples_leaf=4, min_samples_split=4, n_estimators=103; total time=   0.5s\n",
            "[CV] END bootstrap=True, max_depth=None, max_features=auto, min_samples_leaf=4, min_samples_split=4, n_estimators=103; total time=   0.5s\n",
            "[CV] END bootstrap=True, max_depth=None, max_features=auto, min_samples_leaf=4, min_samples_split=4, n_estimators=103; total time=   0.5s\n",
            "[CV] END bootstrap=True, max_depth=None, max_features=auto, min_samples_leaf=4, min_samples_split=6, n_estimators=105; total time=   0.5s\n",
            "[CV] END bootstrap=True, max_depth=None, max_features=auto, min_samples_leaf=4, min_samples_split=6, n_estimators=105; total time=   0.5s\n",
            "[CV] END bootstrap=True, max_depth=None, max_features=auto, min_samples_leaf=4, min_samples_split=6, n_estimators=105; total time=   0.5s\n",
            "[CV] END bootstrap=True, max_depth=None, max_features=auto, min_samples_leaf=4, min_samples_split=6, n_estimators=105; total time=   0.6s\n",
            "[CV] END bootstrap=True, max_depth=None, max_features=auto, min_samples_leaf=4, min_samples_split=6, n_estimators=105; total time=   0.5s\n",
            "[CV] END bootstrap=True, max_depth=30, max_features=auto, min_samples_leaf=1, min_samples_split=9, n_estimators=448; total time=   0.5s\n",
            "[CV] END bootstrap=True, max_depth=30, max_features=auto, min_samples_leaf=1, min_samples_split=9, n_estimators=448; total time=   0.5s\n",
            "[CV] END bootstrap=True, max_depth=30, max_features=auto, min_samples_leaf=1, min_samples_split=9, n_estimators=448; total time=   0.5s\n",
            "[CV] END bootstrap=True, max_depth=30, max_features=auto, min_samples_leaf=1, min_samples_split=9, n_estimators=448; total time=   0.5s\n",
            "[CV] END bootstrap=True, max_depth=30, max_features=auto, min_samples_leaf=1, min_samples_split=9, n_estimators=448; total time=   0.5s\n",
            "[CV] END bootstrap=True, max_depth=50, max_features=auto, min_samples_leaf=3, min_samples_split=4, n_estimators=287; total time=   0.5s\n",
            "[CV] END bootstrap=True, max_depth=50, max_features=auto, min_samples_leaf=3, min_samples_split=4, n_estimators=287; total time=   0.5s\n",
            "[CV] END bootstrap=True, max_depth=50, max_features=auto, min_samples_leaf=3, min_samples_split=4, n_estimators=287; total time=   0.5s\n",
            "[CV] END bootstrap=True, max_depth=50, max_features=auto, min_samples_leaf=3, min_samples_split=4, n_estimators=287; total time=   0.5s\n",
            "[CV] END bootstrap=True, max_depth=50, max_features=auto, min_samples_leaf=3, min_samples_split=4, n_estimators=287; total time=   0.5s\n",
            "[CV] END bootstrap=True, max_depth=50, max_features=sqrt, min_samples_leaf=3, min_samples_split=8, n_estimators=351; total time= 3.3min\n",
            "[CV] END bootstrap=True, max_depth=50, max_features=sqrt, min_samples_leaf=3, min_samples_split=8, n_estimators=351; total time= 3.3min\n",
            "[CV] END bootstrap=True, max_depth=30, max_features=log2, min_samples_leaf=1, min_samples_split=6, n_estimators=260; total time=  13.6s\n",
            "[CV] END bootstrap=True, max_depth=50, max_features=sqrt, min_samples_leaf=3, min_samples_split=8, n_estimators=351; total time= 3.3min\n",
            "[CV] END bootstrap=True, max_depth=None, max_features=sqrt, min_samples_leaf=1, min_samples_split=8, n_estimators=161; total time= 6.9min\n",
            "[CV] END bootstrap=True, max_depth=40, max_features=sqrt, min_samples_leaf=4, min_samples_split=3, n_estimators=293; total time= 2.2min\n",
            "[CV] END bootstrap=True, max_depth=40, max_features=sqrt, min_samples_leaf=4, min_samples_split=3, n_estimators=293; total time= 2.3min\n",
            "[CV] END bootstrap=True, max_depth=30, max_features=log2, min_samples_leaf=1, min_samples_split=6, n_estimators=260; total time=  13.9s\n",
            "[CV] END bootstrap=True, max_depth=None, max_features=sqrt, min_samples_leaf=1, min_samples_split=8, n_estimators=161; total time= 7.0min\n",
            "[CV] END bootstrap=True, max_depth=30, max_features=log2, min_samples_leaf=1, min_samples_split=6, n_estimators=260; total time=  14.1s\n",
            "[CV] END bootstrap=True, max_depth=30, max_features=log2, min_samples_leaf=1, min_samples_split=6, n_estimators=260; total time=  13.6s\n",
            "[CV] END bootstrap=True, max_depth=30, max_features=log2, min_samples_leaf=1, min_samples_split=6, n_estimators=260; total time=  14.0s\n",
            "[CV] END bootstrap=True, max_depth=40, max_features=sqrt, min_samples_leaf=4, min_samples_split=3, n_estimators=293; total time= 2.3min\n",
            "[CV] END bootstrap=True, max_depth=None, max_features=sqrt, min_samples_leaf=1, min_samples_split=8, n_estimators=161; total time= 7.2min\n",
            "[CV] END bootstrap=True, max_depth=None, max_features=sqrt, min_samples_leaf=1, min_samples_split=8, n_estimators=161; total time= 7.1min\n",
            "[CV] END bootstrap=True, max_depth=None, max_features=sqrt, min_samples_leaf=1, min_samples_split=8, n_estimators=161; total time= 6.9min\n",
            "[CV] END bootstrap=True, max_depth=20, max_features=sqrt, min_samples_leaf=1, min_samples_split=2, n_estimators=383; total time= 1.6min\n",
            "[CV] END bootstrap=True, max_depth=20, max_features=sqrt, min_samples_leaf=1, min_samples_split=2, n_estimators=383; total time= 1.7min\n",
            "[CV] END bootstrap=False, max_depth=None, max_features=log2, min_samples_leaf=1, min_samples_split=9, n_estimators=203; total time= 4.1min\n",
            "[CV] END bootstrap=False, max_depth=None, max_features=log2, min_samples_leaf=1, min_samples_split=9, n_estimators=203; total time= 4.2min\n",
            "[CV] END bootstrap=False, max_depth=None, max_features=log2, min_samples_leaf=1, min_samples_split=9, n_estimators=203; total time= 4.2min\n",
            "[CV] END bootstrap=False, max_depth=None, max_features=log2, min_samples_leaf=1, min_samples_split=9, n_estimators=203; total time= 4.2min\n",
            "[CV] END bootstrap=False, max_depth=None, max_features=log2, min_samples_leaf=1, min_samples_split=9, n_estimators=203; total time= 4.2min\n",
            "[CV] END bootstrap=True, max_depth=20, max_features=sqrt, min_samples_leaf=1, min_samples_split=2, n_estimators=383; total time= 1.6min\n",
            "[CV] END bootstrap=True, max_depth=20, max_features=sqrt, min_samples_leaf=1, min_samples_split=2, n_estimators=383; total time= 1.6min\n",
            "[CV] END bootstrap=False, max_depth=20, max_features=sqrt, min_samples_leaf=1, min_samples_split=7, n_estimators=157; total time= 1.1min\n",
            "[CV] END bootstrap=True, max_depth=10, max_features=log2, min_samples_leaf=2, min_samples_split=10, n_estimators=112; total time=   2.8s\n",
            "[CV] END bootstrap=False, max_depth=20, max_features=sqrt, min_samples_leaf=1, min_samples_split=7, n_estimators=157; total time= 1.1min\n",
            "[CV] END bootstrap=True, max_depth=20, max_features=sqrt, min_samples_leaf=1, min_samples_split=2, n_estimators=383; total time= 1.7min\n",
            "[CV] END bootstrap=True, max_depth=10, max_features=log2, min_samples_leaf=2, min_samples_split=10, n_estimators=112; total time=   2.9s\n",
            "[CV] END bootstrap=True, max_depth=10, max_features=log2, min_samples_leaf=2, min_samples_split=10, n_estimators=112; total time=   2.9s\n",
            "[CV] END bootstrap=True, max_depth=None, max_features=log2, min_samples_leaf=2, min_samples_split=8, n_estimators=269; total time=  15.2s\n",
            "[CV] END bootstrap=True, max_depth=10, max_features=log2, min_samples_leaf=2, min_samples_split=10, n_estimators=112; total time=   2.8s\n",
            "[CV] END bootstrap=True, max_depth=10, max_features=log2, min_samples_leaf=2, min_samples_split=10, n_estimators=112; total time=   3.1s\n",
            "[CV] END bootstrap=False, max_depth=20, max_features=sqrt, min_samples_leaf=1, min_samples_split=7, n_estimators=157; total time= 1.1min\n",
            "[CV] END bootstrap=False, max_depth=20, max_features=sqrt, min_samples_leaf=1, min_samples_split=7, n_estimators=157; total time= 1.1min\n",
            "[CV] END bootstrap=True, max_depth=None, max_features=log2, min_samples_leaf=2, min_samples_split=8, n_estimators=269; total time=  16.4s\n",
            "[CV] END bootstrap=True, max_depth=None, max_features=log2, min_samples_leaf=2, min_samples_split=8, n_estimators=269; total time=  15.5s\n",
            "[CV] END bootstrap=False, max_depth=20, max_features=sqrt, min_samples_leaf=1, min_samples_split=7, n_estimators=157; total time= 1.1min\n",
            "[CV] END bootstrap=True, max_depth=None, max_features=log2, min_samples_leaf=2, min_samples_split=8, n_estimators=269; total time=  16.6s\n",
            "[CV] END bootstrap=False, max_depth=10, max_features=log2, min_samples_leaf=1, min_samples_split=5, n_estimators=272; total time=   8.5s\n",
            "[CV] END bootstrap=False, max_depth=10, max_features=log2, min_samples_leaf=1, min_samples_split=5, n_estimators=272; total time=   8.4s\n",
            "[CV] END bootstrap=False, max_depth=10, max_features=log2, min_samples_leaf=1, min_samples_split=5, n_estimators=272; total time=   8.7s\n",
            "[CV] END bootstrap=False, max_depth=10, max_features=log2, min_samples_leaf=1, min_samples_split=5, n_estimators=272; total time=   8.6s\n",
            "[CV] END bootstrap=False, max_depth=10, max_features=log2, min_samples_leaf=1, min_samples_split=5, n_estimators=272; total time=   8.4s\n",
            "[CV] END bootstrap=True, max_depth=None, max_features=log2, min_samples_leaf=2, min_samples_split=8, n_estimators=269; total time=  16.3s\n",
            "[CV] END bootstrap=False, max_depth=20, max_features=sqrt, min_samples_leaf=2, min_samples_split=2, n_estimators=203; total time= 1.4min\n",
            "[CV] END bootstrap=False, max_depth=20, max_features=sqrt, min_samples_leaf=2, min_samples_split=2, n_estimators=203; total time= 1.3min\n",
            "[CV] END bootstrap=False, max_depth=20, max_features=sqrt, min_samples_leaf=2, min_samples_split=2, n_estimators=203; total time= 1.4min\n",
            "[CV] END bootstrap=False, max_depth=20, max_features=sqrt, min_samples_leaf=2, min_samples_split=2, n_estimators=203; total time= 1.4min\n",
            "[CV] END bootstrap=False, max_depth=50, max_features=auto, min_samples_leaf=4, min_samples_split=7, n_estimators=370; total time=   0.6s\n",
            "[CV] END bootstrap=False, max_depth=50, max_features=auto, min_samples_leaf=4, min_samples_split=7, n_estimators=370; total time=   0.6s\n",
            "[CV] END bootstrap=False, max_depth=50, max_features=auto, min_samples_leaf=4, min_samples_split=7, n_estimators=370; total time=   0.6s\n",
            "[CV] END bootstrap=False, max_depth=50, max_features=auto, min_samples_leaf=4, min_samples_split=7, n_estimators=370; total time=   0.6s\n",
            "[CV] END bootstrap=False, max_depth=50, max_features=auto, min_samples_leaf=4, min_samples_split=7, n_estimators=370; total time=   0.6s\n",
            "[CV] END bootstrap=False, max_depth=20, max_features=auto, min_samples_leaf=1, min_samples_split=9, n_estimators=152; total time=   0.5s\n",
            "[CV] END bootstrap=False, max_depth=20, max_features=auto, min_samples_leaf=1, min_samples_split=9, n_estimators=152; total time=   0.6s\n",
            "[CV] END bootstrap=False, max_depth=20, max_features=auto, min_samples_leaf=1, min_samples_split=9, n_estimators=152; total time=   0.6s\n",
            "[CV] END bootstrap=False, max_depth=20, max_features=auto, min_samples_leaf=1, min_samples_split=9, n_estimators=152; total time=   0.6s\n",
            "[CV] END bootstrap=False, max_depth=20, max_features=auto, min_samples_leaf=1, min_samples_split=9, n_estimators=152; total time=   0.6s\n",
            "[CV] END bootstrap=False, max_depth=30, max_features=auto, min_samples_leaf=3, min_samples_split=5, n_estimators=361; total time=   0.6s\n",
            "[CV] END bootstrap=False, max_depth=30, max_features=auto, min_samples_leaf=3, min_samples_split=5, n_estimators=361; total time=   0.6s\n",
            "[CV] END bootstrap=False, max_depth=30, max_features=auto, min_samples_leaf=3, min_samples_split=5, n_estimators=361; total time=   0.6s\n",
            "[CV] END bootstrap=False, max_depth=30, max_features=auto, min_samples_leaf=3, min_samples_split=5, n_estimators=361; total time=   0.6s\n",
            "[CV] END bootstrap=False, max_depth=30, max_features=auto, min_samples_leaf=3, min_samples_split=5, n_estimators=361; total time=   0.6s\n",
            "[CV] END bootstrap=False, max_depth=20, max_features=sqrt, min_samples_leaf=2, min_samples_split=2, n_estimators=203; total time= 1.4min\n",
            "[CV] END bootstrap=True, max_depth=50, max_features=sqrt, min_samples_leaf=4, min_samples_split=7, n_estimators=250; total time= 2.3min\n",
            "[CV] END bootstrap=True, max_depth=50, max_features=sqrt, min_samples_leaf=4, min_samples_split=7, n_estimators=250; total time= 2.4min\n",
            "[CV] END bootstrap=True, max_depth=50, max_features=sqrt, min_samples_leaf=4, min_samples_split=7, n_estimators=250; total time= 2.3min\n",
            "[CV] END bootstrap=True, max_depth=50, max_features=sqrt, min_samples_leaf=4, min_samples_split=7, n_estimators=250; total time= 2.3min\n",
            "[CV] END bootstrap=False, max_depth=30, max_features=auto, min_samples_leaf=2, min_samples_split=4, n_estimators=244; total time=   0.6s\n",
            "[CV] END bootstrap=True, max_depth=50, max_features=sqrt, min_samples_leaf=4, min_samples_split=7, n_estimators=250; total time= 2.3min\n",
            "[CV] END bootstrap=False, max_depth=30, max_features=auto, min_samples_leaf=2, min_samples_split=4, n_estimators=244; total time=   0.6s\n",
            "[CV] END bootstrap=False, max_depth=30, max_features=auto, min_samples_leaf=2, min_samples_split=4, n_estimators=244; total time=   0.6s\n",
            "[CV] END bootstrap=False, max_depth=30, max_features=auto, min_samples_leaf=2, min_samples_split=4, n_estimators=244; total time=   0.6s\n",
            "[CV] END bootstrap=False, max_depth=30, max_features=auto, min_samples_leaf=2, min_samples_split=4, n_estimators=244; total time=   0.6s\n",
            "[CV] END bootstrap=False, max_depth=10, max_features=sqrt, min_samples_leaf=4, min_samples_split=8, n_estimators=441; total time= 1.5min\n",
            "[CV] END bootstrap=False, max_depth=10, max_features=sqrt, min_samples_leaf=4, min_samples_split=8, n_estimators=441; total time= 1.5min\n",
            "[CV] END bootstrap=False, max_depth=10, max_features=sqrt, min_samples_leaf=4, min_samples_split=8, n_estimators=441; total time= 1.5min\n",
            "[CV] END bootstrap=False, max_depth=10, max_features=sqrt, min_samples_leaf=4, min_samples_split=8, n_estimators=441; total time= 1.5min\n",
            "[CV] END bootstrap=False, max_depth=None, max_features=auto, min_samples_leaf=1, min_samples_split=2, n_estimators=338; total time=   0.6s\n",
            "[CV] END bootstrap=False, max_depth=10, max_features=sqrt, min_samples_leaf=4, min_samples_split=8, n_estimators=441; total time= 1.5min\n",
            "[CV] END bootstrap=False, max_depth=None, max_features=auto, min_samples_leaf=1, min_samples_split=2, n_estimators=338; total time=   0.6s\n",
            "[CV] END bootstrap=False, max_depth=None, max_features=auto, min_samples_leaf=1, min_samples_split=2, n_estimators=338; total time=   0.6s\n",
            "[CV] END bootstrap=False, max_depth=None, max_features=auto, min_samples_leaf=1, min_samples_split=2, n_estimators=338; total time=   0.6s\n",
            "[CV] END bootstrap=False, max_depth=None, max_features=auto, min_samples_leaf=1, min_samples_split=2, n_estimators=338; total time=   0.6s\n",
            "[CV] END bootstrap=False, max_depth=20, max_features=sqrt, min_samples_leaf=3, min_samples_split=6, n_estimators=216; total time= 1.5min\n",
            "[CV] END bootstrap=False, max_depth=20, max_features=sqrt, min_samples_leaf=3, min_samples_split=6, n_estimators=216; total time= 1.5min\n",
            "[CV] END bootstrap=False, max_depth=20, max_features=sqrt, min_samples_leaf=3, min_samples_split=6, n_estimators=216; total time= 1.5min\n",
            "[CV] END bootstrap=False, max_depth=20, max_features=sqrt, min_samples_leaf=3, min_samples_split=6, n_estimators=216; total time= 1.4min\n",
            "[CV] END bootstrap=True, max_depth=None, max_features=auto, min_samples_leaf=3, min_samples_split=6, n_estimators=377; total time=   0.6s\n",
            "[CV] END bootstrap=True, max_depth=None, max_features=auto, min_samples_leaf=3, min_samples_split=6, n_estimators=377; total time=   0.6s\n",
            "[CV] END bootstrap=False, max_depth=20, max_features=sqrt, min_samples_leaf=3, min_samples_split=6, n_estimators=216; total time= 1.5min\n",
            "[CV] END bootstrap=True, max_depth=None, max_features=auto, min_samples_leaf=3, min_samples_split=6, n_estimators=377; total time=   0.6s\n",
            "[CV] END bootstrap=True, max_depth=None, max_features=auto, min_samples_leaf=3, min_samples_split=6, n_estimators=377; total time=   0.6s\n",
            "[CV] END bootstrap=True, max_depth=None, max_features=auto, min_samples_leaf=3, min_samples_split=6, n_estimators=377; total time=   0.6s\n",
            "[CV] END bootstrap=False, max_depth=50, max_features=sqrt, min_samples_leaf=2, min_samples_split=4, n_estimators=363; total time= 5.7min\n",
            "[CV] END bootstrap=False, max_depth=50, max_features=sqrt, min_samples_leaf=2, min_samples_split=4, n_estimators=363; total time= 5.7min\n",
            "[CV] END bootstrap=False, max_depth=50, max_features=sqrt, min_samples_leaf=2, min_samples_split=4, n_estimators=363; total time= 5.7min\n",
            "[CV] END bootstrap=False, max_depth=50, max_features=sqrt, min_samples_leaf=2, min_samples_split=4, n_estimators=363; total time= 5.7min\n",
            "[CV] END bootstrap=False, max_depth=50, max_features=sqrt, min_samples_leaf=2, min_samples_split=4, n_estimators=363; total time= 5.7min\n",
            "[CV] END bootstrap=True, max_depth=30, max_features=sqrt, min_samples_leaf=3, min_samples_split=4, n_estimators=410; total time= 2.5min\n",
            "[CV] END bootstrap=True, max_depth=30, max_features=sqrt, min_samples_leaf=3, min_samples_split=4, n_estimators=410; total time= 2.5min\n",
            "[CV] END bootstrap=True, max_depth=30, max_features=sqrt, min_samples_leaf=3, min_samples_split=4, n_estimators=410; total time= 2.5min\n",
            "[CV] END bootstrap=True, max_depth=30, max_features=sqrt, min_samples_leaf=3, min_samples_split=4, n_estimators=410; total time= 2.5min\n",
            "[CV] END bootstrap=True, max_depth=30, max_features=sqrt, min_samples_leaf=3, min_samples_split=4, n_estimators=410; total time= 2.5min\n",
            "[CV] END bootstrap=True, max_depth=20, max_features=sqrt, min_samples_leaf=4, min_samples_split=4, n_estimators=185; total time=  46.6s\n",
            "[CV] END bootstrap=True, max_depth=20, max_features=sqrt, min_samples_leaf=4, min_samples_split=4, n_estimators=185; total time=  47.4s\n",
            "[CV] END bootstrap=True, max_depth=20, max_features=sqrt, min_samples_leaf=4, min_samples_split=4, n_estimators=185; total time=  47.2s\n",
            "[CV] END bootstrap=True, max_depth=20, max_features=sqrt, min_samples_leaf=4, min_samples_split=4, n_estimators=185; total time=  47.1s\n",
            "[CV] END bootstrap=True, max_depth=20, max_features=sqrt, min_samples_leaf=4, min_samples_split=4, n_estimators=185; total time=  47.5s\n",
            "[CV] END bootstrap=True, max_depth=40, max_features=sqrt, min_samples_leaf=4, min_samples_split=6, n_estimators=146; total time= 1.2min\n",
            "[CV] END bootstrap=True, max_depth=40, max_features=sqrt, min_samples_leaf=4, min_samples_split=6, n_estimators=146; total time= 1.1min\n",
            "[CV] END bootstrap=True, max_depth=40, max_features=sqrt, min_samples_leaf=4, min_samples_split=6, n_estimators=146; total time= 1.2min\n",
            "[CV] END bootstrap=False, max_depth=10, max_features=sqrt, min_samples_leaf=4, min_samples_split=6, n_estimators=138; total time=  29.2s\n",
            "[CV] END bootstrap=False, max_depth=10, max_features=sqrt, min_samples_leaf=4, min_samples_split=6, n_estimators=138; total time=  29.6s\n",
            "[CV] END bootstrap=True, max_depth=40, max_features=sqrt, min_samples_leaf=4, min_samples_split=6, n_estimators=146; total time= 1.2min\n",
            "[CV] END bootstrap=True, max_depth=40, max_features=sqrt, min_samples_leaf=4, min_samples_split=6, n_estimators=146; total time= 1.1min\n",
            "[CV] END bootstrap=False, max_depth=10, max_features=sqrt, min_samples_leaf=4, min_samples_split=6, n_estimators=138; total time=  29.5s\n",
            "[CV] END bootstrap=False, max_depth=10, max_features=sqrt, min_samples_leaf=4, min_samples_split=6, n_estimators=138; total time=  29.6s\n",
            "[CV] END bootstrap=False, max_depth=10, max_features=sqrt, min_samples_leaf=4, min_samples_split=6, n_estimators=138; total time=  29.9s\n",
            "[CV] END bootstrap=False, max_depth=10, max_features=sqrt, min_samples_leaf=1, min_samples_split=5, n_estimators=389; total time= 1.4min\n",
            "[CV] END bootstrap=False, max_depth=10, max_features=sqrt, min_samples_leaf=1, min_samples_split=5, n_estimators=389; total time= 1.4min\n",
            "[CV] END bootstrap=True, max_depth=50, max_features=sqrt, min_samples_leaf=2, min_samples_split=5, n_estimators=303; total time= 3.0min\n",
            "[CV] END bootstrap=True, max_depth=50, max_features=sqrt, min_samples_leaf=2, min_samples_split=5, n_estimators=303; total time= 3.0min\n",
            "[CV] END bootstrap=True, max_depth=50, max_features=sqrt, min_samples_leaf=2, min_samples_split=5, n_estimators=303; total time= 2.9min\n",
            "[CV] END bootstrap=False, max_depth=50, max_features=sqrt, min_samples_leaf=4, min_samples_split=10, n_estimators=336; total time= 5.2min\n",
            "[CV] END bootstrap=True, max_depth=50, max_features=sqrt, min_samples_leaf=2, min_samples_split=5, n_estimators=303; total time= 2.9min\n",
            "[CV] END bootstrap=False, max_depth=50, max_features=sqrt, min_samples_leaf=4, min_samples_split=10, n_estimators=336; total time= 5.2min\n",
            "[CV] END bootstrap=True, max_depth=50, max_features=sqrt, min_samples_leaf=2, min_samples_split=5, n_estimators=303; total time= 2.9min\n",
            "[CV] END bootstrap=True, max_depth=30, max_features=log2, min_samples_leaf=2, min_samples_split=2, n_estimators=483; total time=  18.3s\n",
            "[CV] END bootstrap=True, max_depth=30, max_features=log2, min_samples_leaf=2, min_samples_split=2, n_estimators=483; total time=  18.2s\n",
            "[CV] END bootstrap=False, max_depth=10, max_features=sqrt, min_samples_leaf=1, min_samples_split=5, n_estimators=389; total time= 1.4min\n",
            "[CV] END bootstrap=False, max_depth=10, max_features=sqrt, min_samples_leaf=1, min_samples_split=5, n_estimators=389; total time= 1.4min\n",
            "[CV] END bootstrap=True, max_depth=30, max_features=log2, min_samples_leaf=2, min_samples_split=2, n_estimators=483; total time=  18.6s\n",
            "[CV] END bootstrap=True, max_depth=30, max_features=log2, min_samples_leaf=2, min_samples_split=2, n_estimators=483; total time=  18.2s\n",
            "[CV] END bootstrap=False, max_depth=50, max_features=sqrt, min_samples_leaf=4, min_samples_split=10, n_estimators=336; total time= 5.2min\n",
            "[CV] END bootstrap=True, max_depth=30, max_features=log2, min_samples_leaf=2, min_samples_split=2, n_estimators=483; total time=  18.2s\n",
            "[CV] END bootstrap=False, max_depth=50, max_features=sqrt, min_samples_leaf=4, min_samples_split=10, n_estimators=336; total time= 5.2min\n",
            "[CV] END bootstrap=False, max_depth=10, max_features=sqrt, min_samples_leaf=1, min_samples_split=5, n_estimators=389; total time= 1.4min\n",
            "[CV] END bootstrap=False, max_depth=50, max_features=sqrt, min_samples_leaf=4, min_samples_split=10, n_estimators=336; total time= 5.2min\n",
            "[CV] END bootstrap=False, max_depth=10, max_features=sqrt, min_samples_leaf=3, min_samples_split=2, n_estimators=424; total time= 1.5min\n",
            "[CV] END bootstrap=False, max_depth=10, max_features=sqrt, min_samples_leaf=3, min_samples_split=2, n_estimators=424; total time= 1.5min\n",
            "[CV] END bootstrap=False, max_depth=10, max_features=sqrt, min_samples_leaf=3, min_samples_split=2, n_estimators=424; total time= 1.5min\n",
            "[CV] END bootstrap=False, max_depth=10, max_features=sqrt, min_samples_leaf=3, min_samples_split=2, n_estimators=424; total time= 1.5min\n",
            "[CV] END bootstrap=False, max_depth=20, max_features=auto, min_samples_leaf=1, min_samples_split=3, n_estimators=352; total time=   0.6s\n",
            "[CV] END bootstrap=False, max_depth=20, max_features=auto, min_samples_leaf=1, min_samples_split=3, n_estimators=352; total time=   0.6s\n",
            "[CV] END bootstrap=False, max_depth=20, max_features=auto, min_samples_leaf=1, min_samples_split=3, n_estimators=352; total time=   0.5s\n",
            "[CV] END bootstrap=False, max_depth=10, max_features=sqrt, min_samples_leaf=3, min_samples_split=2, n_estimators=424; total time= 1.5min\n",
            "[CV] END bootstrap=False, max_depth=20, max_features=auto, min_samples_leaf=1, min_samples_split=3, n_estimators=352; total time=   0.5s\n",
            "[CV] END bootstrap=False, max_depth=20, max_features=auto, min_samples_leaf=1, min_samples_split=3, n_estimators=352; total time=   0.5s\n",
            "[CV] END bootstrap=True, max_depth=10, max_features=log2, min_samples_leaf=3, min_samples_split=2, n_estimators=189; total time=   3.4s\n",
            "[CV] END bootstrap=True, max_depth=10, max_features=log2, min_samples_leaf=3, min_samples_split=2, n_estimators=189; total time=   3.3s\n",
            "[CV] END bootstrap=True, max_depth=10, max_features=log2, min_samples_leaf=3, min_samples_split=2, n_estimators=189; total time=   3.3s\n",
            "[CV] END bootstrap=True, max_depth=40, max_features=log2, min_samples_leaf=1, min_samples_split=2, n_estimators=267; total time=  19.5s\n",
            "[CV] END bootstrap=True, max_depth=10, max_features=log2, min_samples_leaf=3, min_samples_split=2, n_estimators=189; total time=   3.3s\n",
            "[CV] END bootstrap=True, max_depth=10, max_features=log2, min_samples_leaf=3, min_samples_split=2, n_estimators=189; total time=   3.5s\n",
            "[CV] END bootstrap=True, max_depth=40, max_features=log2, min_samples_leaf=1, min_samples_split=2, n_estimators=267; total time=  19.8s\n",
            "[CV] END bootstrap=True, max_depth=40, max_features=log2, min_samples_leaf=1, min_samples_split=2, n_estimators=267; total time=  19.0s\n",
            "[CV] END bootstrap=True, max_depth=40, max_features=log2, min_samples_leaf=1, min_samples_split=2, n_estimators=267; total time=  19.5s\n",
            "[CV] END bootstrap=True, max_depth=40, max_features=log2, min_samples_leaf=1, min_samples_split=2, n_estimators=267; total time=  19.8s\n",
            "[CV] END bootstrap=True, max_depth=30, max_features=sqrt, min_samples_leaf=1, min_samples_split=3, n_estimators=174; total time= 1.1min\n",
            "[CV] END bootstrap=True, max_depth=30, max_features=sqrt, min_samples_leaf=1, min_samples_split=3, n_estimators=174; total time= 1.1min\n",
            "[CV] END bootstrap=False, max_depth=20, max_features=sqrt, min_samples_leaf=3, min_samples_split=2, n_estimators=278; total time= 1.9min\n",
            "[CV] END bootstrap=False, max_depth=20, max_features=sqrt, min_samples_leaf=3, min_samples_split=2, n_estimators=278; total time= 1.9min\n",
            "[CV] END bootstrap=True, max_depth=30, max_features=auto, min_samples_leaf=1, min_samples_split=10, n_estimators=263; total time=   0.6s\n",
            "[CV] END bootstrap=True, max_depth=30, max_features=auto, min_samples_leaf=1, min_samples_split=10, n_estimators=263; total time=   0.6s\n",
            "[CV] END bootstrap=True, max_depth=30, max_features=auto, min_samples_leaf=1, min_samples_split=10, n_estimators=263; total time=   0.6s\n",
            "[CV] END bootstrap=False, max_depth=20, max_features=sqrt, min_samples_leaf=3, min_samples_split=2, n_estimators=278; total time= 1.9min\n",
            "[CV] END bootstrap=True, max_depth=30, max_features=auto, min_samples_leaf=1, min_samples_split=10, n_estimators=263; total time=   0.5s\n",
            "[CV] END bootstrap=True, max_depth=30, max_features=auto, min_samples_leaf=1, min_samples_split=10, n_estimators=263; total time=   0.6s\n",
            "[CV] END bootstrap=False, max_depth=20, max_features=sqrt, min_samples_leaf=3, min_samples_split=2, n_estimators=278; total time= 1.8min\n",
            "[CV] END bootstrap=False, max_depth=40, max_features=auto, min_samples_leaf=4, min_samples_split=4, n_estimators=276; total time=   0.6s\n",
            "[CV] END bootstrap=False, max_depth=40, max_features=auto, min_samples_leaf=4, min_samples_split=4, n_estimators=276; total time=   0.6s\n",
            "[CV] END bootstrap=False, max_depth=40, max_features=auto, min_samples_leaf=4, min_samples_split=4, n_estimators=276; total time=   0.6s\n",
            "[CV] END bootstrap=False, max_depth=40, max_features=auto, min_samples_leaf=4, min_samples_split=4, n_estimators=276; total time=   0.6s\n",
            "[CV] END bootstrap=False, max_depth=40, max_features=auto, min_samples_leaf=4, min_samples_split=4, n_estimators=276; total time=   0.6s\n",
            "[CV] END bootstrap=False, max_depth=20, max_features=sqrt, min_samples_leaf=3, min_samples_split=2, n_estimators=278; total time= 1.9min\n",
            "[CV] END bootstrap=True, max_depth=30, max_features=sqrt, min_samples_leaf=1, min_samples_split=3, n_estimators=174; total time= 1.1min\n",
            "[CV] END bootstrap=True, max_depth=30, max_features=sqrt, min_samples_leaf=1, min_samples_split=3, n_estimators=174; total time= 1.1min\n",
            "[CV] END bootstrap=True, max_depth=30, max_features=sqrt, min_samples_leaf=1, min_samples_split=3, n_estimators=174; total time= 1.1min\n",
            "[CV] END bootstrap=False, max_depth=50, max_features=auto, min_samples_leaf=4, min_samples_split=2, n_estimators=282; total time=   0.6s\n",
            "[CV] END bootstrap=False, max_depth=50, max_features=auto, min_samples_leaf=4, min_samples_split=2, n_estimators=282; total time=   0.6s\n",
            "[CV] END bootstrap=False, max_depth=50, max_features=auto, min_samples_leaf=4, min_samples_split=2, n_estimators=282; total time=   0.5s\n",
            "[CV] END bootstrap=False, max_depth=50, max_features=auto, min_samples_leaf=4, min_samples_split=2, n_estimators=282; total time=   0.6s\n",
            "[CV] END bootstrap=False, max_depth=50, max_features=auto, min_samples_leaf=4, min_samples_split=2, n_estimators=282; total time=   0.6s\n",
            "[CV] END bootstrap=True, max_depth=30, max_features=sqrt, min_samples_leaf=1, min_samples_split=8, n_estimators=195; total time= 1.2min\n",
            "[CV] END bootstrap=True, max_depth=30, max_features=sqrt, min_samples_leaf=1, min_samples_split=8, n_estimators=195; total time= 1.2min\n",
            "[CV] END bootstrap=True, max_depth=30, max_features=sqrt, min_samples_leaf=1, min_samples_split=8, n_estimators=195; total time= 1.2min\n",
            "[CV] END bootstrap=True, max_depth=30, max_features=sqrt, min_samples_leaf=1, min_samples_split=8, n_estimators=195; total time= 1.2min\n",
            "[CV] END bootstrap=False, max_depth=40, max_features=sqrt, min_samples_leaf=2, min_samples_split=3, n_estimators=214; total time= 2.7min\n",
            "[CV] END bootstrap=False, max_depth=40, max_features=sqrt, min_samples_leaf=2, min_samples_split=3, n_estimators=214; total time= 2.7min\n",
            "[CV] END bootstrap=False, max_depth=40, max_features=sqrt, min_samples_leaf=2, min_samples_split=3, n_estimators=214; total time= 2.7min\n",
            "[CV] END bootstrap=False, max_depth=40, max_features=sqrt, min_samples_leaf=2, min_samples_split=3, n_estimators=214; total time= 2.7min\n",
            "[CV] END bootstrap=False, max_depth=40, max_features=sqrt, min_samples_leaf=2, min_samples_split=3, n_estimators=214; total time= 2.7min\n",
            "[CV] END bootstrap=True, max_depth=30, max_features=sqrt, min_samples_leaf=1, min_samples_split=8, n_estimators=195; total time=  49.0s\n",
            "[CV] END bootstrap=False, max_depth=None, max_features=sqrt, min_samples_leaf=2, min_samples_split=6, n_estimators=122; total time= 8.0min\n",
            "[CV] END bootstrap=True, max_depth=None, max_features=sqrt, min_samples_leaf=3, min_samples_split=7, n_estimators=413; total time=12.4min\n",
            "[CV] END bootstrap=True, max_depth=None, max_features=sqrt, min_samples_leaf=3, min_samples_split=7, n_estimators=413; total time=11.9min\n",
            "[CV] END bootstrap=False, max_depth=None, max_features=sqrt, min_samples_leaf=2, min_samples_split=6, n_estimators=122; total time= 8.0min\n",
            "[CV] END bootstrap=False, max_depth=None, max_features=sqrt, min_samples_leaf=4, min_samples_split=4, n_estimators=242; total time=12.7min\n",
            "[CV] END bootstrap=False, max_depth=None, max_features=sqrt, min_samples_leaf=4, min_samples_split=4, n_estimators=242; total time=12.8min\n",
            "[CV] END bootstrap=False, max_depth=None, max_features=sqrt, min_samples_leaf=4, min_samples_split=4, n_estimators=242; total time=12.9min\n",
            "[CV] END bootstrap=False, max_depth=None, max_features=sqrt, min_samples_leaf=4, min_samples_split=4, n_estimators=242; total time=12.9min\n",
            "[CV] END bootstrap=True, max_depth=None, max_features=sqrt, min_samples_leaf=3, min_samples_split=7, n_estimators=413; total time=12.8min\n",
            "[CV] END bootstrap=True, max_depth=None, max_features=sqrt, min_samples_leaf=3, min_samples_split=7, n_estimators=413; total time=12.5min\n",
            "[CV] END bootstrap=False, max_depth=None, max_features=sqrt, min_samples_leaf=2, min_samples_split=6, n_estimators=122; total time= 8.3min\n",
            "[CV] END bootstrap=False, max_depth=None, max_features=sqrt, min_samples_leaf=2, min_samples_split=6, n_estimators=122; total time= 8.0min\n",
            "[CV] END bootstrap=True, max_depth=None, max_features=sqrt, min_samples_leaf=3, min_samples_split=7, n_estimators=413; total time=12.5min\n",
            "[CV] END bootstrap=False, max_depth=None, max_features=sqrt, min_samples_leaf=2, min_samples_split=6, n_estimators=122; total time= 8.2min\n",
            "[CV] END bootstrap=False, max_depth=None, max_features=sqrt, min_samples_leaf=4, min_samples_split=4, n_estimators=242; total time=13.2min\n",
            "[CV] END bootstrap=False, max_depth=None, max_features=sqrt, min_samples_leaf=1, min_samples_split=5, n_estimators=483; total time=22.0min\n",
            "[CV] END bootstrap=False, max_depth=None, max_features=sqrt, min_samples_leaf=1, min_samples_split=5, n_estimators=483; total time=22.6min\n",
            "[CV] END bootstrap=False, max_depth=None, max_features=sqrt, min_samples_leaf=1, min_samples_split=5, n_estimators=483; total time=22.5min\n",
            "[CV] END bootstrap=False, max_depth=None, max_features=sqrt, min_samples_leaf=1, min_samples_split=5, n_estimators=483; total time=22.3min\n",
            "[CV] END bootstrap=False, max_depth=None, max_features=sqrt, min_samples_leaf=1, min_samples_split=5, n_estimators=483; total time=22.4min\n"
          ]
        },
        {
          "name": "stderr",
          "output_type": "stream",
          "text": [
            "/home/zeus/miniconda3/envs/cloudspace/lib/python3.10/site-packages/sklearn/model_selection/_validation.py:425: FitFailedWarning: \n",
            "175 fits failed out of a total of 500.\n",
            "The score on these train-test partitions for these parameters will be set to nan.\n",
            "If these failures are not expected, you can try to debug them by setting error_score='raise'.\n",
            "\n",
            "Below are more details about the failures:\n",
            "--------------------------------------------------------------------------------\n",
            "105 fits failed with the following error:\n",
            "Traceback (most recent call last):\n",
            "  File \"/home/zeus/miniconda3/envs/cloudspace/lib/python3.10/site-packages/sklearn/model_selection/_validation.py\", line 729, in _fit_and_score\n",
            "    estimator.fit(X_train, y_train, **fit_params)\n",
            "  File \"/home/zeus/miniconda3/envs/cloudspace/lib/python3.10/site-packages/sklearn/base.py\", line 1145, in wrapper\n",
            "    estimator._validate_params()\n",
            "  File \"/home/zeus/miniconda3/envs/cloudspace/lib/python3.10/site-packages/sklearn/base.py\", line 638, in _validate_params\n",
            "    validate_parameter_constraints(\n",
            "  File \"/home/zeus/miniconda3/envs/cloudspace/lib/python3.10/site-packages/sklearn/utils/_param_validation.py\", line 96, in validate_parameter_constraints\n",
            "    raise InvalidParameterError(\n",
            "sklearn.utils._param_validation.InvalidParameterError: The 'max_features' parameter of RandomForestClassifier must be an int in the range [1, inf), a float in the range (0.0, 1.0], a str among {'log2', 'sqrt'} or None. Got 'auto' instead.\n",
            "\n",
            "--------------------------------------------------------------------------------\n",
            "70 fits failed with the following error:\n",
            "Traceback (most recent call last):\n",
            "  File \"/home/zeus/miniconda3/envs/cloudspace/lib/python3.10/site-packages/sklearn/model_selection/_validation.py\", line 729, in _fit_and_score\n",
            "    estimator.fit(X_train, y_train, **fit_params)\n",
            "  File \"/home/zeus/miniconda3/envs/cloudspace/lib/python3.10/site-packages/sklearn/base.py\", line 1145, in wrapper\n",
            "    estimator._validate_params()\n",
            "  File \"/home/zeus/miniconda3/envs/cloudspace/lib/python3.10/site-packages/sklearn/base.py\", line 638, in _validate_params\n",
            "    validate_parameter_constraints(\n",
            "  File \"/home/zeus/miniconda3/envs/cloudspace/lib/python3.10/site-packages/sklearn/utils/_param_validation.py\", line 96, in validate_parameter_constraints\n",
            "    raise InvalidParameterError(\n",
            "sklearn.utils._param_validation.InvalidParameterError: The 'max_features' parameter of RandomForestClassifier must be an int in the range [1, inf), a float in the range (0.0, 1.0], a str among {'sqrt', 'log2'} or None. Got 'auto' instead.\n",
            "\n",
            "  warnings.warn(some_fits_failed_message, FitFailedWarning)\n",
            "/home/zeus/miniconda3/envs/cloudspace/lib/python3.10/site-packages/sklearn/model_selection/_search.py:979: UserWarning: One or more of the test scores are non-finite: [       nan 0.81801736 0.82873859 0.84600491 0.81815664 0.81801736\n",
            "        nan        nan 0.82957434 0.81801736 0.82539675 0.83277671\n",
            " 0.83890349 0.81801736 0.81801736        nan        nan        nan\n",
            "        nan 0.83597899 0.87343458 0.81801736        nan 0.8352831\n",
            " 0.81801736        nan 0.81801736 0.81801736        nan 0.83277662\n",
            "        nan        nan        nan 0.81801736        nan 0.81801736\n",
            "        nan 0.83221961 0.81801736 0.81801736 0.81801736 0.8298527\n",
            "        nan 0.81801736 0.81801736        nan 0.84210577        nan\n",
            "        nan 0.81801736 0.8734339  0.81801736 0.83458672        nan\n",
            " 0.87719299        nan 0.81801736 0.8454479  0.82539665        nan\n",
            "        nan        nan        nan 0.81801736 0.82776347 0.84057403\n",
            " 0.82372621 0.81801736 0.81801736 0.81801736 0.86396644 0.81801736\n",
            " 0.86118151        nan        nan        nan 0.82999197        nan\n",
            " 0.8238653         nan 0.84391626        nan 0.82289056 0.83542228\n",
            " 0.84182731 0.81801736 0.86953563 0.81801736 0.81801736 0.81801736\n",
            " 0.82372631 0.81801736        nan 0.81801736 0.84029606 0.83486517\n",
            "        nan        nan 0.83389044        nan]\n",
            "  warnings.warn(\n"
          ]
        },
        {
          "ename": "KeyboardInterrupt",
          "evalue": "",
          "output_type": "error",
          "traceback": [
            "\u001b[0;31m---------------------------------------------------------------------------\u001b[0m",
            "\u001b[0;31mKeyboardInterrupt\u001b[0m                         Traceback (most recent call last)",
            "Cell \u001b[0;32mIn[25], line 55\u001b[0m\n\u001b[1;32m     52\u001b[0m random_search \u001b[38;5;241m=\u001b[39m RandomizedSearchCV(estimator\u001b[38;5;241m=\u001b[39mrf, param_distributions\u001b[38;5;241m=\u001b[39mparam_dist, n_iter\u001b[38;5;241m=\u001b[39m\u001b[38;5;241m100\u001b[39m, cv\u001b[38;5;241m=\u001b[39m\u001b[38;5;241m5\u001b[39m, n_jobs\u001b[38;5;241m=\u001b[39m\u001b[38;5;241m-\u001b[39m\u001b[38;5;241m1\u001b[39m, verbose\u001b[38;5;241m=\u001b[39m\u001b[38;5;241m2\u001b[39m, scoring\u001b[38;5;241m=\u001b[39m\u001b[38;5;124m'\u001b[39m\u001b[38;5;124maccuracy\u001b[39m\u001b[38;5;124m'\u001b[39m, random_state\u001b[38;5;241m=\u001b[39m\u001b[38;5;241m42\u001b[39m)\n\u001b[1;32m     54\u001b[0m \u001b[38;5;66;03m# Fit the model\u001b[39;00m\n\u001b[0;32m---> 55\u001b[0m \u001b[43mrandom_search\u001b[49m\u001b[38;5;241;43m.\u001b[39;49m\u001b[43mfit\u001b[49m\u001b[43m(\u001b[49m\u001b[43mX_train_new\u001b[49m\u001b[43m,\u001b[49m\u001b[43m \u001b[49m\u001b[43my_train\u001b[49m\u001b[43m)\u001b[49m\n\u001b[1;32m     57\u001b[0m \u001b[38;5;66;03m# Evaluate the best model\u001b[39;00m\n\u001b[1;32m     58\u001b[0m \u001b[38;5;28mprint\u001b[39m(\u001b[38;5;124mf\u001b[39m\u001b[38;5;124m\"\u001b[39m\u001b[38;5;124mBest parameters found: \u001b[39m\u001b[38;5;132;01m{\u001b[39;00mrandom_search\u001b[38;5;241m.\u001b[39mbest_params_\u001b[38;5;132;01m}\u001b[39;00m\u001b[38;5;124m\"\u001b[39m)\n",
            "File \u001b[0;32m/home/zeus/miniconda3/envs/cloudspace/lib/python3.10/site-packages/sklearn/base.py:1152\u001b[0m, in \u001b[0;36m_fit_context.<locals>.decorator.<locals>.wrapper\u001b[0;34m(estimator, *args, **kwargs)\u001b[0m\n\u001b[1;32m   1145\u001b[0m     estimator\u001b[38;5;241m.\u001b[39m_validate_params()\n\u001b[1;32m   1147\u001b[0m \u001b[38;5;28;01mwith\u001b[39;00m config_context(\n\u001b[1;32m   1148\u001b[0m     skip_parameter_validation\u001b[38;5;241m=\u001b[39m(\n\u001b[1;32m   1149\u001b[0m         prefer_skip_nested_validation \u001b[38;5;129;01mor\u001b[39;00m global_skip_validation\n\u001b[1;32m   1150\u001b[0m     )\n\u001b[1;32m   1151\u001b[0m ):\n\u001b[0;32m-> 1152\u001b[0m     \u001b[38;5;28;01mreturn\u001b[39;00m \u001b[43mfit_method\u001b[49m\u001b[43m(\u001b[49m\u001b[43mestimator\u001b[49m\u001b[43m,\u001b[49m\u001b[43m \u001b[49m\u001b[38;5;241;43m*\u001b[39;49m\u001b[43margs\u001b[49m\u001b[43m,\u001b[49m\u001b[43m \u001b[49m\u001b[38;5;241;43m*\u001b[39;49m\u001b[38;5;241;43m*\u001b[39;49m\u001b[43mkwargs\u001b[49m\u001b[43m)\u001b[49m\n",
            "File \u001b[0;32m/home/zeus/miniconda3/envs/cloudspace/lib/python3.10/site-packages/sklearn/model_selection/_search.py:936\u001b[0m, in \u001b[0;36mBaseSearchCV.fit\u001b[0;34m(self, X, y, groups, **fit_params)\u001b[0m\n\u001b[1;32m    934\u001b[0m refit_start_time \u001b[38;5;241m=\u001b[39m time\u001b[38;5;241m.\u001b[39mtime()\n\u001b[1;32m    935\u001b[0m \u001b[38;5;28;01mif\u001b[39;00m y \u001b[38;5;129;01mis\u001b[39;00m \u001b[38;5;129;01mnot\u001b[39;00m \u001b[38;5;28;01mNone\u001b[39;00m:\n\u001b[0;32m--> 936\u001b[0m     \u001b[38;5;28;43mself\u001b[39;49m\u001b[38;5;241;43m.\u001b[39;49m\u001b[43mbest_estimator_\u001b[49m\u001b[38;5;241;43m.\u001b[39;49m\u001b[43mfit\u001b[49m\u001b[43m(\u001b[49m\u001b[43mX\u001b[49m\u001b[43m,\u001b[49m\u001b[43m \u001b[49m\u001b[43my\u001b[49m\u001b[43m,\u001b[49m\u001b[43m \u001b[49m\u001b[38;5;241;43m*\u001b[39;49m\u001b[38;5;241;43m*\u001b[39;49m\u001b[43mfit_params\u001b[49m\u001b[43m)\u001b[49m\n\u001b[1;32m    937\u001b[0m \u001b[38;5;28;01melse\u001b[39;00m:\n\u001b[1;32m    938\u001b[0m     \u001b[38;5;28mself\u001b[39m\u001b[38;5;241m.\u001b[39mbest_estimator_\u001b[38;5;241m.\u001b[39mfit(X, \u001b[38;5;241m*\u001b[39m\u001b[38;5;241m*\u001b[39mfit_params)\n",
            "File \u001b[0;32m/home/zeus/miniconda3/envs/cloudspace/lib/python3.10/site-packages/sklearn/base.py:1152\u001b[0m, in \u001b[0;36m_fit_context.<locals>.decorator.<locals>.wrapper\u001b[0;34m(estimator, *args, **kwargs)\u001b[0m\n\u001b[1;32m   1145\u001b[0m     estimator\u001b[38;5;241m.\u001b[39m_validate_params()\n\u001b[1;32m   1147\u001b[0m \u001b[38;5;28;01mwith\u001b[39;00m config_context(\n\u001b[1;32m   1148\u001b[0m     skip_parameter_validation\u001b[38;5;241m=\u001b[39m(\n\u001b[1;32m   1149\u001b[0m         prefer_skip_nested_validation \u001b[38;5;129;01mor\u001b[39;00m global_skip_validation\n\u001b[1;32m   1150\u001b[0m     )\n\u001b[1;32m   1151\u001b[0m ):\n\u001b[0;32m-> 1152\u001b[0m     \u001b[38;5;28;01mreturn\u001b[39;00m \u001b[43mfit_method\u001b[49m\u001b[43m(\u001b[49m\u001b[43mestimator\u001b[49m\u001b[43m,\u001b[49m\u001b[43m \u001b[49m\u001b[38;5;241;43m*\u001b[39;49m\u001b[43margs\u001b[49m\u001b[43m,\u001b[49m\u001b[43m \u001b[49m\u001b[38;5;241;43m*\u001b[39;49m\u001b[38;5;241;43m*\u001b[39;49m\u001b[43mkwargs\u001b[49m\u001b[43m)\u001b[49m\n",
            "File \u001b[0;32m/home/zeus/miniconda3/envs/cloudspace/lib/python3.10/site-packages/sklearn/ensemble/_forest.py:456\u001b[0m, in \u001b[0;36mBaseForest.fit\u001b[0;34m(self, X, y, sample_weight)\u001b[0m\n\u001b[1;32m    445\u001b[0m trees \u001b[38;5;241m=\u001b[39m [\n\u001b[1;32m    446\u001b[0m     \u001b[38;5;28mself\u001b[39m\u001b[38;5;241m.\u001b[39m_make_estimator(append\u001b[38;5;241m=\u001b[39m\u001b[38;5;28;01mFalse\u001b[39;00m, random_state\u001b[38;5;241m=\u001b[39mrandom_state)\n\u001b[1;32m    447\u001b[0m     \u001b[38;5;28;01mfor\u001b[39;00m i \u001b[38;5;129;01min\u001b[39;00m \u001b[38;5;28mrange\u001b[39m(n_more_estimators)\n\u001b[1;32m    448\u001b[0m ]\n\u001b[1;32m    450\u001b[0m \u001b[38;5;66;03m# Parallel loop: we prefer the threading backend as the Cython code\u001b[39;00m\n\u001b[1;32m    451\u001b[0m \u001b[38;5;66;03m# for fitting the trees is internally releasing the Python GIL\u001b[39;00m\n\u001b[1;32m    452\u001b[0m \u001b[38;5;66;03m# making threading more efficient than multiprocessing in\u001b[39;00m\n\u001b[1;32m    453\u001b[0m \u001b[38;5;66;03m# that case. However, for joblib 0.12+ we respect any\u001b[39;00m\n\u001b[1;32m    454\u001b[0m \u001b[38;5;66;03m# parallel_backend contexts set at a higher level,\u001b[39;00m\n\u001b[1;32m    455\u001b[0m \u001b[38;5;66;03m# since correctness does not rely on using threads.\u001b[39;00m\n\u001b[0;32m--> 456\u001b[0m trees \u001b[38;5;241m=\u001b[39m \u001b[43mParallel\u001b[49m\u001b[43m(\u001b[49m\n\u001b[1;32m    457\u001b[0m \u001b[43m    \u001b[49m\u001b[43mn_jobs\u001b[49m\u001b[38;5;241;43m=\u001b[39;49m\u001b[38;5;28;43mself\u001b[39;49m\u001b[38;5;241;43m.\u001b[39;49m\u001b[43mn_jobs\u001b[49m\u001b[43m,\u001b[49m\n\u001b[1;32m    458\u001b[0m \u001b[43m    \u001b[49m\u001b[43mverbose\u001b[49m\u001b[38;5;241;43m=\u001b[39;49m\u001b[38;5;28;43mself\u001b[39;49m\u001b[38;5;241;43m.\u001b[39;49m\u001b[43mverbose\u001b[49m\u001b[43m,\u001b[49m\n\u001b[1;32m    459\u001b[0m \u001b[43m    \u001b[49m\u001b[43mprefer\u001b[49m\u001b[38;5;241;43m=\u001b[39;49m\u001b[38;5;124;43m\"\u001b[39;49m\u001b[38;5;124;43mthreads\u001b[39;49m\u001b[38;5;124;43m\"\u001b[39;49m\u001b[43m,\u001b[49m\n\u001b[1;32m    460\u001b[0m \u001b[43m\u001b[49m\u001b[43m)\u001b[49m\u001b[43m(\u001b[49m\n\u001b[1;32m    461\u001b[0m \u001b[43m    \u001b[49m\u001b[43mdelayed\u001b[49m\u001b[43m(\u001b[49m\u001b[43m_parallel_build_trees\u001b[49m\u001b[43m)\u001b[49m\u001b[43m(\u001b[49m\n\u001b[1;32m    462\u001b[0m \u001b[43m        \u001b[49m\u001b[43mt\u001b[49m\u001b[43m,\u001b[49m\n\u001b[1;32m    463\u001b[0m \u001b[43m        \u001b[49m\u001b[38;5;28;43mself\u001b[39;49m\u001b[38;5;241;43m.\u001b[39;49m\u001b[43mbootstrap\u001b[49m\u001b[43m,\u001b[49m\n\u001b[1;32m    464\u001b[0m \u001b[43m        \u001b[49m\u001b[43mX\u001b[49m\u001b[43m,\u001b[49m\n\u001b[1;32m    465\u001b[0m \u001b[43m        \u001b[49m\u001b[43my\u001b[49m\u001b[43m,\u001b[49m\n\u001b[1;32m    466\u001b[0m \u001b[43m        \u001b[49m\u001b[43msample_weight\u001b[49m\u001b[43m,\u001b[49m\n\u001b[1;32m    467\u001b[0m \u001b[43m        \u001b[49m\u001b[43mi\u001b[49m\u001b[43m,\u001b[49m\n\u001b[1;32m    468\u001b[0m \u001b[43m        \u001b[49m\u001b[38;5;28;43mlen\u001b[39;49m\u001b[43m(\u001b[49m\u001b[43mtrees\u001b[49m\u001b[43m)\u001b[49m\u001b[43m,\u001b[49m\n\u001b[1;32m    469\u001b[0m \u001b[43m        \u001b[49m\u001b[43mverbose\u001b[49m\u001b[38;5;241;43m=\u001b[39;49m\u001b[38;5;28;43mself\u001b[39;49m\u001b[38;5;241;43m.\u001b[39;49m\u001b[43mverbose\u001b[49m\u001b[43m,\u001b[49m\n\u001b[1;32m    470\u001b[0m \u001b[43m        \u001b[49m\u001b[43mclass_weight\u001b[49m\u001b[38;5;241;43m=\u001b[39;49m\u001b[38;5;28;43mself\u001b[39;49m\u001b[38;5;241;43m.\u001b[39;49m\u001b[43mclass_weight\u001b[49m\u001b[43m,\u001b[49m\n\u001b[1;32m    471\u001b[0m \u001b[43m        \u001b[49m\u001b[43mn_samples_bootstrap\u001b[49m\u001b[38;5;241;43m=\u001b[39;49m\u001b[43mn_samples_bootstrap\u001b[49m\u001b[43m,\u001b[49m\n\u001b[1;32m    472\u001b[0m \u001b[43m    \u001b[49m\u001b[43m)\u001b[49m\n\u001b[1;32m    473\u001b[0m \u001b[43m    \u001b[49m\u001b[38;5;28;43;01mfor\u001b[39;49;00m\u001b[43m \u001b[49m\u001b[43mi\u001b[49m\u001b[43m,\u001b[49m\u001b[43m \u001b[49m\u001b[43mt\u001b[49m\u001b[43m \u001b[49m\u001b[38;5;129;43;01min\u001b[39;49;00m\u001b[43m \u001b[49m\u001b[38;5;28;43menumerate\u001b[39;49m\u001b[43m(\u001b[49m\u001b[43mtrees\u001b[49m\u001b[43m)\u001b[49m\n\u001b[1;32m    474\u001b[0m \u001b[43m\u001b[49m\u001b[43m)\u001b[49m\n\u001b[1;32m    476\u001b[0m \u001b[38;5;66;03m# Collect newly grown trees\u001b[39;00m\n\u001b[1;32m    477\u001b[0m \u001b[38;5;28mself\u001b[39m\u001b[38;5;241m.\u001b[39mestimators_\u001b[38;5;241m.\u001b[39mextend(trees)\n",
            "File \u001b[0;32m/home/zeus/miniconda3/envs/cloudspace/lib/python3.10/site-packages/sklearn/utils/parallel.py:65\u001b[0m, in \u001b[0;36mParallel.__call__\u001b[0;34m(self, iterable)\u001b[0m\n\u001b[1;32m     60\u001b[0m config \u001b[38;5;241m=\u001b[39m get_config()\n\u001b[1;32m     61\u001b[0m iterable_with_config \u001b[38;5;241m=\u001b[39m (\n\u001b[1;32m     62\u001b[0m     (_with_config(delayed_func, config), args, kwargs)\n\u001b[1;32m     63\u001b[0m     \u001b[38;5;28;01mfor\u001b[39;00m delayed_func, args, kwargs \u001b[38;5;129;01min\u001b[39;00m iterable\n\u001b[1;32m     64\u001b[0m )\n\u001b[0;32m---> 65\u001b[0m \u001b[38;5;28;01mreturn\u001b[39;00m \u001b[38;5;28;43msuper\u001b[39;49m\u001b[43m(\u001b[49m\u001b[43m)\u001b[49m\u001b[38;5;241;43m.\u001b[39;49m\u001b[38;5;21;43m__call__\u001b[39;49m\u001b[43m(\u001b[49m\u001b[43miterable_with_config\u001b[49m\u001b[43m)\u001b[49m\n",
            "File \u001b[0;32m/home/zeus/miniconda3/envs/cloudspace/lib/python3.10/site-packages/joblib/parallel.py:1918\u001b[0m, in \u001b[0;36mParallel.__call__\u001b[0;34m(self, iterable)\u001b[0m\n\u001b[1;32m   1916\u001b[0m     output \u001b[38;5;241m=\u001b[39m \u001b[38;5;28mself\u001b[39m\u001b[38;5;241m.\u001b[39m_get_sequential_output(iterable)\n\u001b[1;32m   1917\u001b[0m     \u001b[38;5;28mnext\u001b[39m(output)\n\u001b[0;32m-> 1918\u001b[0m     \u001b[38;5;28;01mreturn\u001b[39;00m output \u001b[38;5;28;01mif\u001b[39;00m \u001b[38;5;28mself\u001b[39m\u001b[38;5;241m.\u001b[39mreturn_generator \u001b[38;5;28;01melse\u001b[39;00m \u001b[38;5;28;43mlist\u001b[39;49m\u001b[43m(\u001b[49m\u001b[43moutput\u001b[49m\u001b[43m)\u001b[49m\n\u001b[1;32m   1920\u001b[0m \u001b[38;5;66;03m# Let's create an ID that uniquely identifies the current call. If the\u001b[39;00m\n\u001b[1;32m   1921\u001b[0m \u001b[38;5;66;03m# call is interrupted early and that the same instance is immediately\u001b[39;00m\n\u001b[1;32m   1922\u001b[0m \u001b[38;5;66;03m# re-used, this id will be used to prevent workers that were\u001b[39;00m\n\u001b[1;32m   1923\u001b[0m \u001b[38;5;66;03m# concurrently finalizing a task from the previous call to run the\u001b[39;00m\n\u001b[1;32m   1924\u001b[0m \u001b[38;5;66;03m# callback.\u001b[39;00m\n\u001b[1;32m   1925\u001b[0m \u001b[38;5;28;01mwith\u001b[39;00m \u001b[38;5;28mself\u001b[39m\u001b[38;5;241m.\u001b[39m_lock:\n",
            "File \u001b[0;32m/home/zeus/miniconda3/envs/cloudspace/lib/python3.10/site-packages/joblib/parallel.py:1847\u001b[0m, in \u001b[0;36mParallel._get_sequential_output\u001b[0;34m(self, iterable)\u001b[0m\n\u001b[1;32m   1845\u001b[0m \u001b[38;5;28mself\u001b[39m\u001b[38;5;241m.\u001b[39mn_dispatched_batches \u001b[38;5;241m+\u001b[39m\u001b[38;5;241m=\u001b[39m \u001b[38;5;241m1\u001b[39m\n\u001b[1;32m   1846\u001b[0m \u001b[38;5;28mself\u001b[39m\u001b[38;5;241m.\u001b[39mn_dispatched_tasks \u001b[38;5;241m+\u001b[39m\u001b[38;5;241m=\u001b[39m \u001b[38;5;241m1\u001b[39m\n\u001b[0;32m-> 1847\u001b[0m res \u001b[38;5;241m=\u001b[39m \u001b[43mfunc\u001b[49m\u001b[43m(\u001b[49m\u001b[38;5;241;43m*\u001b[39;49m\u001b[43margs\u001b[49m\u001b[43m,\u001b[49m\u001b[43m \u001b[49m\u001b[38;5;241;43m*\u001b[39;49m\u001b[38;5;241;43m*\u001b[39;49m\u001b[43mkwargs\u001b[49m\u001b[43m)\u001b[49m\n\u001b[1;32m   1848\u001b[0m \u001b[38;5;28mself\u001b[39m\u001b[38;5;241m.\u001b[39mn_completed_tasks \u001b[38;5;241m+\u001b[39m\u001b[38;5;241m=\u001b[39m \u001b[38;5;241m1\u001b[39m\n\u001b[1;32m   1849\u001b[0m \u001b[38;5;28mself\u001b[39m\u001b[38;5;241m.\u001b[39mprint_progress()\n",
            "File \u001b[0;32m/home/zeus/miniconda3/envs/cloudspace/lib/python3.10/site-packages/sklearn/utils/parallel.py:127\u001b[0m, in \u001b[0;36m_FuncWrapper.__call__\u001b[0;34m(self, *args, **kwargs)\u001b[0m\n\u001b[1;32m    125\u001b[0m     config \u001b[38;5;241m=\u001b[39m {}\n\u001b[1;32m    126\u001b[0m \u001b[38;5;28;01mwith\u001b[39;00m config_context(\u001b[38;5;241m*\u001b[39m\u001b[38;5;241m*\u001b[39mconfig):\n\u001b[0;32m--> 127\u001b[0m     \u001b[38;5;28;01mreturn\u001b[39;00m \u001b[38;5;28;43mself\u001b[39;49m\u001b[38;5;241;43m.\u001b[39;49m\u001b[43mfunction\u001b[49m\u001b[43m(\u001b[49m\u001b[38;5;241;43m*\u001b[39;49m\u001b[43margs\u001b[49m\u001b[43m,\u001b[49m\u001b[43m \u001b[49m\u001b[38;5;241;43m*\u001b[39;49m\u001b[38;5;241;43m*\u001b[39;49m\u001b[43mkwargs\u001b[49m\u001b[43m)\u001b[49m\n",
            "File \u001b[0;32m/home/zeus/miniconda3/envs/cloudspace/lib/python3.10/site-packages/sklearn/ensemble/_forest.py:190\u001b[0m, in \u001b[0;36m_parallel_build_trees\u001b[0;34m(tree, bootstrap, X, y, sample_weight, tree_idx, n_trees, verbose, class_weight, n_samples_bootstrap)\u001b[0m\n\u001b[1;32m    188\u001b[0m     tree\u001b[38;5;241m.\u001b[39mfit(X, y, sample_weight\u001b[38;5;241m=\u001b[39mcurr_sample_weight, check_input\u001b[38;5;241m=\u001b[39m\u001b[38;5;28;01mFalse\u001b[39;00m)\n\u001b[1;32m    189\u001b[0m \u001b[38;5;28;01melse\u001b[39;00m:\n\u001b[0;32m--> 190\u001b[0m     \u001b[43mtree\u001b[49m\u001b[38;5;241;43m.\u001b[39;49m\u001b[43mfit\u001b[49m\u001b[43m(\u001b[49m\u001b[43mX\u001b[49m\u001b[43m,\u001b[49m\u001b[43m \u001b[49m\u001b[43my\u001b[49m\u001b[43m,\u001b[49m\u001b[43m \u001b[49m\u001b[43msample_weight\u001b[49m\u001b[38;5;241;43m=\u001b[39;49m\u001b[43msample_weight\u001b[49m\u001b[43m,\u001b[49m\u001b[43m \u001b[49m\u001b[43mcheck_input\u001b[49m\u001b[38;5;241;43m=\u001b[39;49m\u001b[38;5;28;43;01mFalse\u001b[39;49;00m\u001b[43m)\u001b[49m\n\u001b[1;32m    192\u001b[0m \u001b[38;5;28;01mreturn\u001b[39;00m tree\n",
            "File \u001b[0;32m/home/zeus/miniconda3/envs/cloudspace/lib/python3.10/site-packages/sklearn/base.py:1152\u001b[0m, in \u001b[0;36m_fit_context.<locals>.decorator.<locals>.wrapper\u001b[0;34m(estimator, *args, **kwargs)\u001b[0m\n\u001b[1;32m   1145\u001b[0m     estimator\u001b[38;5;241m.\u001b[39m_validate_params()\n\u001b[1;32m   1147\u001b[0m \u001b[38;5;28;01mwith\u001b[39;00m config_context(\n\u001b[1;32m   1148\u001b[0m     skip_parameter_validation\u001b[38;5;241m=\u001b[39m(\n\u001b[1;32m   1149\u001b[0m         prefer_skip_nested_validation \u001b[38;5;129;01mor\u001b[39;00m global_skip_validation\n\u001b[1;32m   1150\u001b[0m     )\n\u001b[1;32m   1151\u001b[0m ):\n\u001b[0;32m-> 1152\u001b[0m     \u001b[38;5;28;01mreturn\u001b[39;00m \u001b[43mfit_method\u001b[49m\u001b[43m(\u001b[49m\u001b[43mestimator\u001b[49m\u001b[43m,\u001b[49m\u001b[43m \u001b[49m\u001b[38;5;241;43m*\u001b[39;49m\u001b[43margs\u001b[49m\u001b[43m,\u001b[49m\u001b[43m \u001b[49m\u001b[38;5;241;43m*\u001b[39;49m\u001b[38;5;241;43m*\u001b[39;49m\u001b[43mkwargs\u001b[49m\u001b[43m)\u001b[49m\n",
            "File \u001b[0;32m/home/zeus/miniconda3/envs/cloudspace/lib/python3.10/site-packages/sklearn/tree/_classes.py:959\u001b[0m, in \u001b[0;36mDecisionTreeClassifier.fit\u001b[0;34m(self, X, y, sample_weight, check_input)\u001b[0m\n\u001b[1;32m    928\u001b[0m \u001b[38;5;129m@_fit_context\u001b[39m(prefer_skip_nested_validation\u001b[38;5;241m=\u001b[39m\u001b[38;5;28;01mTrue\u001b[39;00m)\n\u001b[1;32m    929\u001b[0m \u001b[38;5;28;01mdef\u001b[39;00m \u001b[38;5;21mfit\u001b[39m(\u001b[38;5;28mself\u001b[39m, X, y, sample_weight\u001b[38;5;241m=\u001b[39m\u001b[38;5;28;01mNone\u001b[39;00m, check_input\u001b[38;5;241m=\u001b[39m\u001b[38;5;28;01mTrue\u001b[39;00m):\n\u001b[1;32m    930\u001b[0m \u001b[38;5;250m    \u001b[39m\u001b[38;5;124;03m\"\"\"Build a decision tree classifier from the training set (X, y).\u001b[39;00m\n\u001b[1;32m    931\u001b[0m \n\u001b[1;32m    932\u001b[0m \u001b[38;5;124;03m    Parameters\u001b[39;00m\n\u001b[0;32m   (...)\u001b[0m\n\u001b[1;32m    956\u001b[0m \u001b[38;5;124;03m        Fitted estimator.\u001b[39;00m\n\u001b[1;32m    957\u001b[0m \u001b[38;5;124;03m    \"\"\"\u001b[39;00m\n\u001b[0;32m--> 959\u001b[0m     \u001b[38;5;28;43msuper\u001b[39;49m\u001b[43m(\u001b[49m\u001b[43m)\u001b[49m\u001b[38;5;241;43m.\u001b[39;49m\u001b[43m_fit\u001b[49m\u001b[43m(\u001b[49m\n\u001b[1;32m    960\u001b[0m \u001b[43m        \u001b[49m\u001b[43mX\u001b[49m\u001b[43m,\u001b[49m\n\u001b[1;32m    961\u001b[0m \u001b[43m        \u001b[49m\u001b[43my\u001b[49m\u001b[43m,\u001b[49m\n\u001b[1;32m    962\u001b[0m \u001b[43m        \u001b[49m\u001b[43msample_weight\u001b[49m\u001b[38;5;241;43m=\u001b[39;49m\u001b[43msample_weight\u001b[49m\u001b[43m,\u001b[49m\n\u001b[1;32m    963\u001b[0m \u001b[43m        \u001b[49m\u001b[43mcheck_input\u001b[49m\u001b[38;5;241;43m=\u001b[39;49m\u001b[43mcheck_input\u001b[49m\u001b[43m,\u001b[49m\n\u001b[1;32m    964\u001b[0m \u001b[43m    \u001b[49m\u001b[43m)\u001b[49m\n\u001b[1;32m    965\u001b[0m     \u001b[38;5;28;01mreturn\u001b[39;00m \u001b[38;5;28mself\u001b[39m\n",
            "File \u001b[0;32m/home/zeus/miniconda3/envs/cloudspace/lib/python3.10/site-packages/sklearn/tree/_classes.py:443\u001b[0m, in \u001b[0;36mBaseDecisionTree._fit\u001b[0;34m(self, X, y, sample_weight, check_input, missing_values_in_feature_mask)\u001b[0m\n\u001b[1;32m    432\u001b[0m \u001b[38;5;28;01melse\u001b[39;00m:\n\u001b[1;32m    433\u001b[0m     builder \u001b[38;5;241m=\u001b[39m BestFirstTreeBuilder(\n\u001b[1;32m    434\u001b[0m         splitter,\n\u001b[1;32m    435\u001b[0m         min_samples_split,\n\u001b[0;32m   (...)\u001b[0m\n\u001b[1;32m    440\u001b[0m         \u001b[38;5;28mself\u001b[39m\u001b[38;5;241m.\u001b[39mmin_impurity_decrease,\n\u001b[1;32m    441\u001b[0m     )\n\u001b[0;32m--> 443\u001b[0m \u001b[43mbuilder\u001b[49m\u001b[38;5;241;43m.\u001b[39;49m\u001b[43mbuild\u001b[49m\u001b[43m(\u001b[49m\u001b[38;5;28;43mself\u001b[39;49m\u001b[38;5;241;43m.\u001b[39;49m\u001b[43mtree_\u001b[49m\u001b[43m,\u001b[49m\u001b[43m \u001b[49m\u001b[43mX\u001b[49m\u001b[43m,\u001b[49m\u001b[43m \u001b[49m\u001b[43my\u001b[49m\u001b[43m,\u001b[49m\u001b[43m \u001b[49m\u001b[43msample_weight\u001b[49m\u001b[43m,\u001b[49m\u001b[43m \u001b[49m\u001b[43mmissing_values_in_feature_mask\u001b[49m\u001b[43m)\u001b[49m\n\u001b[1;32m    445\u001b[0m \u001b[38;5;28;01mif\u001b[39;00m \u001b[38;5;28mself\u001b[39m\u001b[38;5;241m.\u001b[39mn_outputs_ \u001b[38;5;241m==\u001b[39m \u001b[38;5;241m1\u001b[39m \u001b[38;5;129;01mand\u001b[39;00m is_classifier(\u001b[38;5;28mself\u001b[39m):\n\u001b[1;32m    446\u001b[0m     \u001b[38;5;28mself\u001b[39m\u001b[38;5;241m.\u001b[39mn_classes_ \u001b[38;5;241m=\u001b[39m \u001b[38;5;28mself\u001b[39m\u001b[38;5;241m.\u001b[39mn_classes_[\u001b[38;5;241m0\u001b[39m]\n",
            "\u001b[0;31mKeyboardInterrupt\u001b[0m: "
          ]
        }
      ],
      "source": [
        "import numpy as np\n",
        "import pandas as pd\n",
        "from sklearn.ensemble import RandomForestClassifier\n",
        "from sklearn.model_selection import GridSearchCV, train_test_split,RandomizedSearchCV\n",
        "from sklearn.metrics import accuracy_score, classification_report\n",
        "import joblib\n",
        "from scipy.stats import randint\n",
        "\n",
        "# Load datasets\n",
        "'''\n",
        "train_df = pd.read_csv('dataset/train.csv')\n",
        "val_df = pd.read_csv('dataset/val.csv')\n",
        "test_df = pd.read_csv('dataset/test.csv')\n",
        "\n",
        "# Load the TF-IDF vectorizer\n",
        "tfidf_vectorizer = joblib.load('models/tfidf_vectorizer.joblib')\n",
        "\n",
        "# Handle NaN values by replacing them with an empty string\n",
        "train_df['cleaned_text'] = train_df['cleaned_text'].fillna('')\n",
        "val_df['cleaned_text'] = val_df['cleaned_text'].fillna('')\n",
        "test_df['cleaned_text'] = test_df['cleaned_text'].fillna('')\n",
        "\n",
        "# Split the data into features and target variables\n",
        "X_train = train_df['cleaned_text']\n",
        "y_train = train_df['target']\n",
        "X_val = val_df['cleaned_text']\n",
        "y_val = val_df['target']\n",
        "X_test = test_df['cleaned_text']\n",
        "y_test = test_df['target']\n",
        "\n",
        "# Transform the text data using the TF-IDF vectorizer\n",
        "X_train_new = tfidf_vectorizer.transform(X_train).toarray()\n",
        "X_val_new = tfidf_vectorizer.transform(X_val).toarray()\n",
        "X_test_new = tfidf_vectorizer.transform(X_test).toarray()\n",
        "'''\n",
        "\n",
        "\n",
        "# Define the model\n",
        "rf = RandomForestClassifier(random_state=42)\n",
        "\n",
        "# Set up the parameter grid\n",
        "param_dist = {\n",
        "    'n_estimators': randint(100, 501),\n",
        "    'max_features': ['auto', 'sqrt', 'log2'],\n",
        "    'max_depth': [None, 10, 20, 30, 40, 50],\n",
        "    'min_samples_split': randint(2, 11),\n",
        "    'min_samples_leaf': randint(1, 5),\n",
        "    'bootstrap': [True, False]\n",
        "}\n",
        "\n",
        "# Initialize GridSearchCV\n",
        "random_search = RandomizedSearchCV(estimator=rf, param_distributions=param_dist, n_iter=100, cv=5, n_jobs=-1, verbose=2, scoring='accuracy', random_state=42)\n",
        "\n",
        "# Fit the model\n",
        "random_search.fit(X_train_new, y_train)\n",
        "\n",
        "# Evaluate the best model\n",
        "print(f\"Best parameters found: {random_search.best_params_}\")\n",
        "\n",
        "# Use the best model to make predictions on the test set\n",
        "best_rf = random_search.best_estimator_\n",
        "y_pred = best_rf.predict(X_test_new)\n",
        "\n",
        "# Save the best model\n",
        "joblib.dump(best_rf, \"models/best_rf_model.pkl\")\n",
        "print(f'Best Random Forest Model saved.')\n",
        "\n",
        "# Evaluate the predictions\n",
        "accuracy = accuracy_score(y_test, y_pred)\n",
        "print(f\"Test set accuracy: {accuracy}\")\n",
        "print(classification_report(y_test, y_pred))\n"
      ]
    },
    {
      "cell_type": "markdown",
      "metadata": {
        "id": "bYVmUVDMNL2B"
      },
      "source": [
        "### Hyper parameter tunning for SVM using RandomSearch"
      ]
    },
    {
      "cell_type": "code",
      "execution_count": null,
      "metadata": {
        "id": "yQ_1ycuFNL2C",
        "outputId": "e577b5b2-e0b9-4e55-9c50-b0287f30b70f"
      },
      "outputs": [
        {
          "name": "stdout",
          "output_type": "stream",
          "text": [
            "Best hyperparameters: {'kernel': 'linear', 'gamma': 0.01, 'C': 3.1622776601683795}\n",
            "Best cross-validation score: 0.8785853522695627\n",
            "Best SVM model saved to models/best_svm.joblib\n",
            "\n",
            "Support Vector Machine after Hyperparameter Tuning\n",
            "              precision    recall  f1-score   support\n",
            "\n",
            "           0       0.91      0.94      0.93      1468\n",
            "           1       0.70      0.60      0.65       328\n",
            "\n",
            "    accuracy                           0.88      1796\n",
            "   macro avg       0.81      0.77      0.79      1796\n",
            "weighted avg       0.88      0.88      0.88      1796\n",
            "\n"
          ]
        }
      ],
      "source": [
        "import numpy as np\n",
        "import pandas as pd\n",
        "from sklearn.ensemble import RandomForestClassifier\n",
        "from sklearn.model_selection import GridSearchCV, train_test_split,RandomizedSearchCV\n",
        "from sklearn.metrics import accuracy_score, classification_report\n",
        "import joblib\n",
        "from scipy.stats import randint\n",
        "from sklearn.svm import SVC\n",
        "\n",
        "# Load datasets\n",
        "\n",
        "train_df = pd.read_csv('dataset/train.csv')\n",
        "val_df = pd.read_csv('dataset/val.csv')\n",
        "test_df = pd.read_csv('dataset/test.csv')\n",
        "\n",
        "# Load the TF-IDF vectorizer\n",
        "tfidf_vectorizer = joblib.load('models/tfidf_vectorizer.joblib')\n",
        "\n",
        "# Handle NaN values by replacing them with an empty string\n",
        "train_df['cleaned_text'] = train_df['cleaned_text'].fillna('')\n",
        "val_df['cleaned_text'] = val_df['cleaned_text'].fillna('')\n",
        "test_df['cleaned_text'] = test_df['cleaned_text'].fillna('')\n",
        "\n",
        "# Split the data into features and target variables\n",
        "X_train = train_df['cleaned_text']\n",
        "y_train = train_df['target']\n",
        "X_val = val_df['cleaned_text']\n",
        "y_val = val_df['target']\n",
        "X_test = test_df['cleaned_text']\n",
        "y_test = test_df['target']\n",
        "\n",
        "# Transform the text data using the TF-IDF vectorizer\n",
        "X_train_new = tfidf_vectorizer.transform(X_train).toarray()\n",
        "X_val_new = tfidf_vectorizer.transform(X_val).toarray()\n",
        "X_test_new = tfidf_vectorizer.transform(X_test).toarray()\n",
        "\n",
        "\n",
        "param_dist = {\n",
        "    'C': np.logspace(-1, 2, 5),  # Reduced range for quicker execution\n",
        "    'gamma': np.logspace(-3, 0, 4),  # Reduced range for quicker execution\n",
        "    'kernel': ['rbf', 'linear']  # Fewer kernels for quicker execution\n",
        "}\n",
        "svc = SVC(random_state=42)\n",
        "# Initialize RandomizedSearchCV\n",
        "random_search = RandomizedSearchCV(svc, param_distributions=param_dist, n_iter=5, cv=3, scoring='accuracy', n_jobs=-1, random_state=42)\n",
        "\n",
        "# Fit RandomizedSearchCV\n",
        "random_search.fit(X_train_new, y_train)\n",
        "\n",
        "# Get the best hyperparameters\n",
        "best_params = random_search.best_params_\n",
        "best_score = random_search.best_score_\n",
        "\n",
        "print(f\"Best hyperparameters: {best_params}\")\n",
        "print(f\"Best cross-validation score: {best_score}\")\n",
        "\n",
        "# Train the best SVM model on the entire training dataset\n",
        "best_svm = random_search.best_estimator_\n",
        "best_svm.fit(X_train_new, y_train)\n",
        "\n",
        "# Save the best model to a file\n",
        "joblib_file = \"models/best_svm.joblib\"\n",
        "joblib.dump(best_svm, joblib_file)\n",
        "print(f\"Best SVM model saved to {joblib_file}\")\n",
        "\n",
        "# Predict and evaluate using the test dataset\n",
        "test_predictions_svm = best_svm.predict(X_test_new)\n",
        "print(\"\\nSupport Vector Machine after Hyperparameter Tuning\")\n",
        "print(classification_report(y_test, test_predictions_svm))"
      ]
    },
    {
      "cell_type": "markdown",
      "metadata": {
        "id": "zSMctpgWNL2D"
      },
      "source": [
        "### Model Testing Using tfidf and svm best model on test data"
      ]
    },
    {
      "cell_type": "code",
      "execution_count": null,
      "metadata": {
        "id": "JBGGWLGUNL2E",
        "outputId": "c2a5dc78-9477-488b-a235-045d8e146af1"
      },
      "outputs": [
        {
          "name": "stdout",
          "output_type": "stream",
          "text": [
            "                                        cleaned_text  Predicted_Target\n",
            "0  mark 63044 jesus feed five thousand 30 apostle...                 0\n",
            "1  injustice must stopped home sikh victim displa...                 0\n",
            "2  six people confirmed dead several others injur...                 1\n",
            "3  venezuela countryside collapsing capital hum p...                 0\n",
            "4          weekend violence leaf 6 dead philadelphia                 0\n"
          ]
        }
      ],
      "source": [
        "import joblib\n",
        "import pandas as pd\n",
        "import numpy as np\n",
        "\n",
        "# Load the models\n",
        "tfidf_vectorizer = joblib.load('models/tfidf_vectorizer.joblib')\n",
        "best_svm_model = joblib.load('models/best_svm.joblib')\n",
        "\n",
        "# Load the test dataset\n",
        "test_df = pd.read_csv('dataset/test.csv')\n",
        "\n",
        "# Drop rows with NaNs in 'cleaned_text' column\n",
        "test_df = test_df.dropna(subset=['cleaned_text'])\n",
        "\n",
        "# Assuming modified_test_dataset is your test dataset DataFrame\n",
        "x_test_modified_df = test_df['cleaned_text']\n",
        "x_test_modified_df.to_csv('dataset/modified_test_dataset_without_label.csv', index=False)\n",
        "\n",
        "# Transform test data\n",
        "X_test_new = tfidf_vectorizer.transform(x_test_modified_df).toarray()\n",
        "\n",
        "# Make predictions\n",
        "predictions = best_svm_model.predict(X_test_new)\n",
        "\n",
        "# Add predictions to the DataFrame\n",
        "test_df['Predicted_Target'] = predictions\n",
        "\n",
        "# Select columns of interest\n",
        "modified_test_dataset = test_df[['cleaned_text', 'Predicted_Target']]\n",
        "\n",
        "# Save to CSV\n",
        "modified_test_dataset.to_csv('predicted_xtest_label_using_svm_model.csv', index=False)\n",
        "\n",
        "# Print a sample to verify\n",
        "print(modified_test_dataset.head())\n"
      ]
    },
    {
      "cell_type": "code",
      "execution_count": null,
      "metadata": {
        "id": "GE_8DgpTNL2E"
      },
      "outputs": [],
      "source": [
        "modified_test_dataset.to_csv('dataset/predicted_xtarget_sing_model.csv')"
      ]
    },
    {
      "cell_type": "markdown",
      "metadata": {
        "id": "5_9NOA8yNL2F"
      },
      "source": [
        "### Code to work with simple 1 text as input by user"
      ]
    },
    {
      "cell_type": "code",
      "execution_count": null,
      "metadata": {
        "id": "DHhZ8GPyCZOJ",
        "outputId": "db6f65ba-6ad3-454a-eb27-34950007936a"
      },
      "outputs": [
        {
          "name": "stderr",
          "output_type": "stream",
          "text": [
            "[nltk_data] Downloading package punkt to\n",
            "[nltk_data]     /teamspace/studios/this_studio/nltk_data...\n",
            "[nltk_data]   Package punkt is already up-to-date!\n",
            "[nltk_data] Downloading package stopwords to\n",
            "[nltk_data]     /teamspace/studios/this_studio/nltk_data...\n",
            "[nltk_data]   Package stopwords is already up-to-date!\n",
            "[nltk_data] Downloading package wordnet to\n",
            "[nltk_data]     /teamspace/studios/this_studio/nltk_data...\n",
            "[nltk_data]   Package wordnet is already up-to-date!\n"
          ]
        }
      ],
      "source": [
        "import joblib\n",
        "import string\n",
        "import nltk\n",
        "import pandas as pd\n",
        "import re\n",
        "import string\n",
        "from nltk.corpus import stopwords\n",
        "from nltk.tokenize import word_tokenize\n",
        "from nltk.stem import WordNetLemmatizer\n",
        "import seaborn as sns\n",
        "import matplotlib.pyplot as plt\n",
        "from sklearn.model_selection import train_test_split\n",
        "\n",
        "\n",
        "nltk.download('punkt')\n",
        "nltk.download('stopwords')\n",
        "nltk.download('wordnet')\n",
        "\n",
        "\n",
        "tfidf_vectorizer = joblib.load('models/tfidf_vectorizer.joblib')\n",
        "best_rf_model = joblib.load('models/RandomForest_model.joblib')\n",
        "\n",
        "import re\n",
        "# Text preprocessing function\n",
        "def preprocess_text(text):\n",
        "    text = text.lower()  # Lowercase text\n",
        "    text = re.sub(re.compile('<.*?>'),'',text) # Removing Html Tags\n",
        "    text = re.sub('\\[.*?\\]', '', text) # Remove square brackets\n",
        "    text = re.sub('https?://\\S+|www\\.\\S+', '', text) # Remove URLs\n",
        "    text = re.sub(f\"[{re.escape(string.punctuation)}]\", \"\", text)  # Remove punctuation\n",
        "    text = re.sub('\\n', '', text) # Remove new line (/n)\n",
        "    text = re.sub(r'[^a-zA-Z0-9\\s]', '', text)# Remove non-alphanumeric characters\n",
        "    # text = re.sub('\\w*\\d\\w*', '', text)  # Removes Digit But in this case it make be Important\n",
        "    tokens = word_tokenize(text)  # Tokenization\n",
        "    tokens = [word for word in tokens if word not in stopwords.words('english')]  # Remove stopwords\n",
        "    lemmatizer = WordNetLemmatizer()\n",
        "    tokens = [lemmatizer.lemmatize(word) for word in tokens]  # Lemmatization\n",
        "    return \" \".join(tokens)\n",
        "\n",
        "def predict_sentiment(text,tfidf_vectorizer,best_rf_model):\n",
        "  text = preprocess_text(text)\n",
        "  X_new = tfidf_vectorizer.transform([text]).toarray()\n",
        "  prediction = best_rf_model.predict(X_new)\n",
        "  if prediction[0] == 0:\n",
        "    return 'Not a Disaster'\n",
        "  elif prediction[0] == 1:\n",
        "    return 'Disaster'\n"
      ]
    },
    {
      "cell_type": "code",
      "execution_count": null,
      "metadata": {
        "id": "iQut_FcmNL2G",
        "outputId": "3a4afb7f-a3ea-4e11-fd82-7e37c17c76f2"
      },
      "outputs": [
        {
          "data": {
            "text/plain": [
              "'Disaster'"
            ]
          },
          "execution_count": 5,
          "metadata": {},
          "output_type": "execute_result"
        }
      ],
      "source": [
        "predict_sentiment(text='turn australia isnt blazing climate change blazing vast amount arsonist started',tfidf_vectorizer=tfidf_vectorizer,best_rf_model=best_rf_model)"
      ]
    },
    {
      "cell_type": "code",
      "execution_count": 2,
      "metadata": {},
      "outputs": [],
      "source": [
        "import os\n",
        "import shutil\n",
        "\n",
        "def zip_current_directory(zip_name):\n",
        "    # Get the current working directory\n",
        "    cwd = os.getcwd()\n",
        "    \n",
        "    # Define the base name for the zip file (without extension)\n",
        "    base_name = os.path.join(cwd, zip_name)\n",
        "    \n",
        "    # Create a zip archive of the current directory\n",
        "    shutil.make_archive(base_name, 'zip', cwd)\n",
        "\n",
        "# Name of the zip file (without extension)\n",
        "zip_name = 'nlp_project'\n",
        "\n",
        "# Call the function to zip the current directory\n",
        "zip_current_directory(zip_name)\n",
        "\n",
        "print(f\"Zipped current directory into {zip_name}.zip\")\n"
      ]
    },
    {
      "cell_type": "code",
      "execution_count": null,
      "metadata": {},
      "outputs": [],
      "source": []
    }
  ],
  "metadata": {
    "accelerator": "GPU",
    "colab": {
      "collapsed_sections": [
        "dfs1dktleZUe",
        "85IVrWqBNL13",
        "Z1Z0okCdNL15",
        "Tpmofv_ca9I5",
        "k5zetuzra0q_",
        "SBs7aKapl9T8",
        "odQEDnhCNL1_"
      ],
      "gpuType": "T4",
      "provenance": []
    },
    "kernelspec": {
      "display_name": "Python 3",
      "name": "python3"
    },
    "language_info": {
      "name": "python"
    }
  },
  "nbformat": 4,
  "nbformat_minor": 0
}
